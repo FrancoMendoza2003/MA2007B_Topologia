{
 "cells": [
  {
   "cell_type": "code",
   "execution_count": 4,
   "metadata": {},
   "outputs": [],
   "source": [
    "import numpy as np\n",
    "import pandas as pd\n",
    "#from gtda.time_series import SingleTakensEmbedding, takens_embedding_optimal_parameters\n",
    "#from gtda.plotting import plot_point_cloud\n",
    "#from gtda.homology import VietorisRipsPersistence\n",
    "import plotly.graph_objects as go\n",
    "#from nolitsa import delay, dimension\n",
    "from sklearn.decomposition import PCA\n",
    "from matplotlib import pyplot as plt"
   ]
  },
  {
   "cell_type": "markdown",
   "metadata": {},
   "source": [
    "#"
   ]
  },
  {
   "cell_type": "code",
   "execution_count": null,
   "metadata": {},
   "outputs": [],
   "source": [
    "x_periodic = np.linspace(0, 2*np.pi, 100)\n",
    "y_periodic = np.sin(x_periodic)"
   ]
  },
  {
   "cell_type": "code",
   "execution_count": null,
   "metadata": {},
   "outputs": [],
   "source": [
    "max_periodic_dimensions = 31\n",
    "max_periodic_time_delay = 31\n",
    "stride = 1\n",
    "tau,d = takens_embedding_optimal_parameters(, dimension=max_periodic_dimensions, time_delay=max_periodic_time_delay, stride=stride)"
   ]
  },
  {
   "cell_type": "code",
   "execution_count": null,
   "metadata": {},
   "outputs": [],
   "source": [
    "embedder_periodic = SingleTakensEmbedding(parameters_type=\"search\",time_delay=max_periodic_time_delay, dimension=max_periodic_dimensions)\n",
    "y_periodic_embedded = embedder_periodic.fit_transform(y_periodic)\n",
    "print(\"El delay encontrado es: \",embedder_periodic.time_delay_)\n",
    "print(\"La dimension encontrada es: \",embedder_periodic.dimension_)\n",
    "\n",
    "\n",
    "print(f\"Shape of embedded time series: {y_periodic_embedded.shape}\")\n",
    "\n",
    "pca = PCA(n_components=3)\n",
    "y_periodic_embedded_pca = pca.fit_transform(y_periodic_embedded)\n",
    "plot_point_cloud(y_periodic_embedded_pca, title=\"PCA of embedded time series\")"
   ]
  },
  {
   "cell_type": "code",
   "execution_count": null,
   "metadata": {},
   "outputs": [],
   "source": [
    "plt.figure(figsize=(9, 4))\n",
    "plt.xlabel(\"Time delay (tau)\")\n",
    "plt.ylabel(\"Mutual Information\")\n",
    "plt.plot(delay.dmi(y_periodic,maxtau=30))"
   ]
  },
  {
   "cell_type": "code",
   "execution_count": null,
   "metadata": {},
   "outputs": [],
   "source": [
    "def find_optimal_delay(x,maxtau=50):\n",
    "    mi = delay.dmi(x,maxtau=maxtau)\n",
    "    diffmi = np.diff(mi)\n",
    "    return np.where(diffmi>0)[0][0]\n",
    "\n",
    "find_optimal_delay(y_periodic,maxtau=30)"
   ]
  },
  {
   "cell_type": "code",
   "execution_count": null,
   "metadata": {},
   "outputs": [],
   "source": [
    "embedding_dimension_periodic = 18\n",
    "embedding_time_delay_periodic = 1\n",
    "stride = 1\n",
    "embedder_periodic = SingleTakensEmbedding(parameters_type=\"fixed\",dimension=embedding_dimension_periodic, time_delay=embedding_time_delay_periodic, stride=stride,n_jobs=2)\n",
    "\n",
    "y_periodic_embedded = embedder_periodic.fit_transform(y_periodic)\n",
    "print(f\"Shape of embedded time series: {y_periodic_embedded.shape}\")\n",
    "pca = PCA(n_components=3)\n",
    "y_periodic_embedded_pca = pca.fit_transform(y_periodic_embedded)\n",
    "plot_point_cloud(y_periodic_embedded_pca, title=\"PCA of embedded time series\")"
   ]
  }
 ],
 "metadata": {
  "kernelspec": {
   "display_name": "Python 3",
   "language": "python",
   "name": "python3"
  },
  "language_info": {
   "codemirror_mode": {
    "name": "ipython",
    "version": 3
   },
   "file_extension": ".py",
   "mimetype": "text/x-python",
   "name": "python",
   "nbconvert_exporter": "python",
   "pygments_lexer": "ipython3",
   "version": "3.11.0"
  }
 },
 "nbformat": 4,
 "nbformat_minor": 2
}
