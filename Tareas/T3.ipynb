{
 "cells": [
  {
   "cell_type": "markdown",
   "metadata": {},
   "source": [
    "# Tarea 3\n",
    "\n",
    "En el siguiente Notebook vamos a poner a prueba tu conocimiento sobre el algoritmo de Mapper vistos la clase anterior. Para ello te pedimos que completes las siguientes celdas de código con las funciones necesarias para poder ejecutar el algoritmo de Mapper en las siguientes bases de datos."
   ]
  },
  {
   "cell_type": "markdown",
   "metadata": {},
   "source": [
    "## Base de Datos 1.\n",
    "\n",
    "La siguiente base de datos contiene la información de las calificiones de Matemáticas, Redacción y Lectura de algunos estudiantes de Estados Unidos en el 2015, de igual manera contiene información de nivel de estudios de los padres, raza, sexo, alimentación en la escuela. \n",
    "\n",
    "La base de datos se puede encontrar en el siguiente [link](https://www.kaggle.com/spscientist/students-performance-in-exams)\n",
    "\n"
   ]
  },
  {
   "cell_type": "code",
   "execution_count": 34,
   "metadata": {},
   "outputs": [],
   "source": [
    "import pandas as pd\n",
    "import kmapper as km\n",
    "import sklearn\n",
    "import numpy as np"
   ]
  },
  {
   "cell_type": "code",
   "execution_count": 35,
   "metadata": {},
   "outputs": [
    {
     "data": {
      "text/html": [
       "<div>\n",
       "<style scoped>\n",
       "    .dataframe tbody tr th:only-of-type {\n",
       "        vertical-align: middle;\n",
       "    }\n",
       "\n",
       "    .dataframe tbody tr th {\n",
       "        vertical-align: top;\n",
       "    }\n",
       "\n",
       "    .dataframe thead th {\n",
       "        text-align: right;\n",
       "    }\n",
       "</style>\n",
       "<table border=\"1\" class=\"dataframe\">\n",
       "  <thead>\n",
       "    <tr style=\"text-align: right;\">\n",
       "      <th></th>\n",
       "      <th>gender</th>\n",
       "      <th>race/ethnicity</th>\n",
       "      <th>parental level of education</th>\n",
       "      <th>lunch</th>\n",
       "      <th>test preparation course</th>\n",
       "      <th>math score</th>\n",
       "      <th>reading score</th>\n",
       "      <th>writing score</th>\n",
       "    </tr>\n",
       "  </thead>\n",
       "  <tbody>\n",
       "    <tr>\n",
       "      <th>0</th>\n",
       "      <td>female</td>\n",
       "      <td>group B</td>\n",
       "      <td>bachelor's degree</td>\n",
       "      <td>standard</td>\n",
       "      <td>none</td>\n",
       "      <td>72</td>\n",
       "      <td>72</td>\n",
       "      <td>74</td>\n",
       "    </tr>\n",
       "    <tr>\n",
       "      <th>1</th>\n",
       "      <td>female</td>\n",
       "      <td>group C</td>\n",
       "      <td>some college</td>\n",
       "      <td>standard</td>\n",
       "      <td>completed</td>\n",
       "      <td>69</td>\n",
       "      <td>90</td>\n",
       "      <td>88</td>\n",
       "    </tr>\n",
       "    <tr>\n",
       "      <th>2</th>\n",
       "      <td>female</td>\n",
       "      <td>group B</td>\n",
       "      <td>master's degree</td>\n",
       "      <td>standard</td>\n",
       "      <td>none</td>\n",
       "      <td>90</td>\n",
       "      <td>95</td>\n",
       "      <td>93</td>\n",
       "    </tr>\n",
       "    <tr>\n",
       "      <th>3</th>\n",
       "      <td>male</td>\n",
       "      <td>group A</td>\n",
       "      <td>associate's degree</td>\n",
       "      <td>free/reduced</td>\n",
       "      <td>none</td>\n",
       "      <td>47</td>\n",
       "      <td>57</td>\n",
       "      <td>44</td>\n",
       "    </tr>\n",
       "    <tr>\n",
       "      <th>4</th>\n",
       "      <td>male</td>\n",
       "      <td>group C</td>\n",
       "      <td>some college</td>\n",
       "      <td>standard</td>\n",
       "      <td>none</td>\n",
       "      <td>76</td>\n",
       "      <td>78</td>\n",
       "      <td>75</td>\n",
       "    </tr>\n",
       "  </tbody>\n",
       "</table>\n",
       "</div>"
      ],
      "text/plain": [
       "   gender race/ethnicity parental level of education         lunch  \\\n",
       "0  female        group B           bachelor's degree      standard   \n",
       "1  female        group C                some college      standard   \n",
       "2  female        group B             master's degree      standard   \n",
       "3    male        group A          associate's degree  free/reduced   \n",
       "4    male        group C                some college      standard   \n",
       "\n",
       "  test preparation course  math score  reading score  writing score  \n",
       "0                    none          72             72             74  \n",
       "1               completed          69             90             88  \n",
       "2                    none          90             95             93  \n",
       "3                    none          47             57             44  \n",
       "4                    none          76             78             75  "
      ]
     },
     "execution_count": 35,
     "metadata": {},
     "output_type": "execute_result"
    }
   ],
   "source": [
    "performance_data=pd.read_csv('Datos/StudentsPerformance.csv')\n",
    "performance_data.head()"
   ]
  },
  {
   "cell_type": "code",
   "execution_count": 36,
   "metadata": {},
   "outputs": [
    {
     "data": {
      "text/html": [
       "<div>\n",
       "<style scoped>\n",
       "    .dataframe tbody tr th:only-of-type {\n",
       "        vertical-align: middle;\n",
       "    }\n",
       "\n",
       "    .dataframe tbody tr th {\n",
       "        vertical-align: top;\n",
       "    }\n",
       "\n",
       "    .dataframe thead th {\n",
       "        text-align: right;\n",
       "    }\n",
       "</style>\n",
       "<table border=\"1\" class=\"dataframe\">\n",
       "  <thead>\n",
       "    <tr style=\"text-align: right;\">\n",
       "      <th></th>\n",
       "      <th>math score</th>\n",
       "      <th>reading score</th>\n",
       "      <th>writing score</th>\n",
       "    </tr>\n",
       "  </thead>\n",
       "  <tbody>\n",
       "    <tr>\n",
       "      <th>count</th>\n",
       "      <td>1000.00000</td>\n",
       "      <td>1000.000000</td>\n",
       "      <td>1000.000000</td>\n",
       "    </tr>\n",
       "    <tr>\n",
       "      <th>mean</th>\n",
       "      <td>66.08900</td>\n",
       "      <td>69.169000</td>\n",
       "      <td>68.054000</td>\n",
       "    </tr>\n",
       "    <tr>\n",
       "      <th>std</th>\n",
       "      <td>15.16308</td>\n",
       "      <td>14.600192</td>\n",
       "      <td>15.195657</td>\n",
       "    </tr>\n",
       "    <tr>\n",
       "      <th>min</th>\n",
       "      <td>0.00000</td>\n",
       "      <td>17.000000</td>\n",
       "      <td>10.000000</td>\n",
       "    </tr>\n",
       "    <tr>\n",
       "      <th>25%</th>\n",
       "      <td>57.00000</td>\n",
       "      <td>59.000000</td>\n",
       "      <td>57.750000</td>\n",
       "    </tr>\n",
       "    <tr>\n",
       "      <th>50%</th>\n",
       "      <td>66.00000</td>\n",
       "      <td>70.000000</td>\n",
       "      <td>69.000000</td>\n",
       "    </tr>\n",
       "    <tr>\n",
       "      <th>75%</th>\n",
       "      <td>77.00000</td>\n",
       "      <td>79.000000</td>\n",
       "      <td>79.000000</td>\n",
       "    </tr>\n",
       "    <tr>\n",
       "      <th>max</th>\n",
       "      <td>100.00000</td>\n",
       "      <td>100.000000</td>\n",
       "      <td>100.000000</td>\n",
       "    </tr>\n",
       "  </tbody>\n",
       "</table>\n",
       "</div>"
      ],
      "text/plain": [
       "       math score  reading score  writing score\n",
       "count  1000.00000    1000.000000    1000.000000\n",
       "mean     66.08900      69.169000      68.054000\n",
       "std      15.16308      14.600192      15.195657\n",
       "min       0.00000      17.000000      10.000000\n",
       "25%      57.00000      59.000000      57.750000\n",
       "50%      66.00000      70.000000      69.000000\n",
       "75%      77.00000      79.000000      79.000000\n",
       "max     100.00000     100.000000     100.000000"
      ]
     },
     "execution_count": 36,
     "metadata": {},
     "output_type": "execute_result"
    }
   ],
   "source": [
    "performance_data.describe()"
   ]
  },
  {
   "cell_type": "markdown",
   "metadata": {},
   "source": [
    "Notemos que en los tres examenes, el promedio fue de 70 puntos, con una desviación estándar de 15 puntos (aproximadamente). Esta información la tomaremos en cuenta en el futuro.\n",
    "\n",
    "\n",
    "Usualmente las calificaciones tienen una distribución normal, por lo que utilizaremos la cubierta en cuartiles para visualizar la información, por ejemplo si nuestros cuartiles tienen un traslape del 2%, entonces estos serían:\n",
    "\n",
    "$$(0,26),(24,51),(49,76),(74,100).$$\n",
    "\n",
    "Antes de decidir que vamos a estudiar, saquemos la información de los scores que tenemos."
   ]
  },
  {
   "cell_type": "code",
   "execution_count": 37,
   "metadata": {},
   "outputs": [],
   "source": [
    "data = performance_data[['math score','reading score','writing score']].to_numpy()"
   ]
  },
  {
   "cell_type": "markdown",
   "metadata": {},
   "source": [
    "Supongamos que queremos conocer la relación que tiene el score de matemáticas con los otros dos (si este influye). Para esto, podemos utilizar mapper proyectando los datos en la variable que mide el score de matemáticas, esto es:\n",
    "\n",
    "$$(math\\,score,reading\\,score,writing\\,score)\\mapsto math\\,score.$$\n",
    "\n",
    "Esta es una función de $\\mathbb{R}^3\\to\\mathbb{R}.$ \n",
    "\n",
    "Como me interesa conocer que pasa con los otros dos scores, voy a utilizar su promedio para colorear los elementos del cluster."
   ]
  },
  {
   "cell_type": "code",
   "execution_count": 38,
   "metadata": {},
   "outputs": [],
   "source": [
    "mean_outer_score=(data[:,1]+data[:,2])/2.0"
   ]
  },
  {
   "cell_type": "code",
   "execution_count": 39,
   "metadata": {},
   "outputs": [
    {
     "name": "stdout",
     "output_type": "stream",
     "text": [
      "KeplerMapper(verbose=1)\n",
      "..Composing projection pipeline of length 1:\n",
      "\tProjections: [0]\n",
      "\tDistance matrices: False\n",
      "\tScalers: MinMaxScaler()\n",
      "..Projecting on data shaped (1000, 3)\n",
      "\n",
      "..Projecting data using: [0]\n",
      "\n",
      "..Scaling with: MinMaxScaler()\n",
      "\n"
     ]
    }
   ],
   "source": [
    "mapper = km.KeplerMapper(verbose=1)\n",
    "# La proyección sobre el math score, corresponde a proyectar sobre la primera columna de data\n",
    "projected_data = mapper.fit_transform(data, projection=[0] ) # Math score\n"
   ]
  },
  {
   "cell_type": "code",
   "execution_count": 40,
   "metadata": {},
   "outputs": [],
   "source": [
    "covering=km.Cover(n_cubes=4,perc_overlap=0.2)"
   ]
  },
  {
   "cell_type": "code",
   "execution_count": 41,
   "metadata": {},
   "outputs": [
    {
     "name": "stdout",
     "output_type": "stream",
     "text": [
      "Mapping on data shaped (1000, 3) using lens shaped (1000, 1)\n",
      "\n",
      "Creating 4 hypercubes.\n"
     ]
    },
    {
     "name": "stderr",
     "output_type": "stream",
     "text": [
      "c:\\Users\\Franco Mendoza\\AppData\\Local\\Programs\\Python\\Python311\\Lib\\site-packages\\sklearn\\cluster\\_kmeans.py:870: FutureWarning: The default value of `n_init` will change from 10 to 'auto' in 1.4. Set the value of `n_init` explicitly to suppress the warning\n",
      "  warnings.warn(\n",
      "c:\\Users\\Franco Mendoza\\AppData\\Local\\Programs\\Python\\Python311\\Lib\\site-packages\\sklearn\\cluster\\_kmeans.py:870: FutureWarning: The default value of `n_init` will change from 10 to 'auto' in 1.4. Set the value of `n_init` explicitly to suppress the warning\n",
      "  warnings.warn(\n",
      "c:\\Users\\Franco Mendoza\\AppData\\Local\\Programs\\Python\\Python311\\Lib\\site-packages\\sklearn\\cluster\\_kmeans.py:870: FutureWarning: The default value of `n_init` will change from 10 to 'auto' in 1.4. Set the value of `n_init` explicitly to suppress the warning\n",
      "  warnings.warn(\n",
      "c:\\Users\\Franco Mendoza\\AppData\\Local\\Programs\\Python\\Python311\\Lib\\site-packages\\sklearn\\cluster\\_kmeans.py:870: FutureWarning: The default value of `n_init` will change from 10 to 'auto' in 1.4. Set the value of `n_init` explicitly to suppress the warning\n",
      "  warnings.warn(\n"
     ]
    },
    {
     "name": "stdout",
     "output_type": "stream",
     "text": [
      "\n",
      "Created 12 edges and 16 nodes in 0:00:00.225754.\n"
     ]
    }
   ],
   "source": [
    "G = mapper.map(projected_data, data, clusterer=sklearn.cluster.KMeans(n_clusters=4),cover=covering)"
   ]
  },
  {
   "cell_type": "code",
   "execution_count": 44,
   "metadata": {},
   "outputs": [
    {
     "name": "stdout",
     "output_type": "stream",
     "text": [
      "Wrote visualization to: mapper_visualization_output.html\n"
     ]
    },
    {
     "data": {
      "text/plain": [
       "'<!DOCTYPE html>\\n<html>\\n\\n<head>\\n  <meta charset=\"utf-8\">\\n  <meta name=\"generator\" content=\"KeplerMapper\">\\n  <title>Performance Data based on Math Score and Mean of other two | KeplerMapper</title>\\n\\n  <link rel=\"icon\" type=\"image/png\" href=\"http://i.imgur.com/axOG6GJ.jpg\" />\\n\\n  <link href=\\'https://fonts.googleapis.com/css?family=Roboto+Mono:700,300\\' rel=\\'stylesheet\\' type=\\'text/css\\'>\\n  <style>* {\\n  margin: 0;\\n  padding: 0;\\n}\\n\\nhtml, body {\\n  height: 100%;\\n}\\n\\nbody {\\n  font-family: \"Roboto Mono\", \"Helvetica\", sans-serif;\\n  font-size: 14px;\\n}\\n\\n#logo {\\n  width:  85px;\\n  height: 85px;\\n}\\n\\n#display {\\n  color: #95A5A6;\\n  background: #212121;\\n}\\n\\n#header {\\n  background: #111111;\\n}\\n\\n#print {\\n  color: #000;\\n  background: #FFF;\\n}\\n\\nh1 {\\n  font-size: 21px;\\n  font-weight: 300;\\n  font-weight: 300;\\n}\\n\\nh2 {\\n  font-size: 18px;\\n  padding-bottom: 20px;\\n  font-weight: 300;\\n}\\n\\nh3 {\\n  font-size: 14px;\\n  font-weight: 700;\\n  text-transform: uppercase;\\n}\\n\\nh4 {\\n  font-size: 13px;\\n  font-weight: 700;\\n  text-transform: uppercase;\\n  padding-bottom:0px;\\n}\\n\\n\\n#meta_content h3 {\\n  float: left;\\n  padding-right: 8px;\\n}\\n\\np, #tooltip_content h3, ol, ul, table {\\n  padding-bottom: 10px;\\n}\\n\\nol, ul {\\n  padding-left: 20px;\\n}\\n\\nol b {\\n  display: block;\\n}\\n\\na {\\n  color: #16a085;\\n  text-decoration: none;\\n}\\n\\n.pane {\\n  position: relative;\\n}\\n\\n.pane-left {\\n  float: left;\\n}\\n\\n.pane-right {\\n  float: right;\\n}\\n\\na:hover {\\n  color: #2ecc71;\\n}\\n\\n.banner {\\n  /* height: 35px; */\\n  padding: 10px 0px;\\n}\\n\\n\\n#print #header {\\n  background: #FFF;\\n}\\n\\n\\n#canvas {\\n  width: 100%;\\n}\\n\\n#svg {\\n  position: absolute;\\n}\\n\\n#toolbar {\\n  padding-top: 5px;\\n  margin-bottom: 5px;\\n  width: 100%;\\n}\\n\\n#display #toolbar {\\n}\\n\\n#display .banner {\\n  border-top: 1px solid #000;\\n}\\n\\n.inline-block {\\n  display: inline-block;\\n}\\n\\n.tool_item {\\n  padding-left: 10px;\\n  padding-right: 10px;\\n}\\n\\n.pane_content {\\n  width: 300px;\\n  height:100%;\\n  padding: 20px;\\n  overflow: auto;\\n  display: none;\\n}\\n\\n.pane {\\n  z-index: 1;\\n}\\n\\n#display .pane_content {\\n  background: #191919;\\n}\\n\\n#print .pane_content{\\n  background: #FFF;\\n}\\n\\n#meta_content::-webkit-scrollbar, #tooltip_content::-webkit-scrollbar {\\n  width: 1em;\\n}\\n\\n#meta_content::-webkit-scrollbar-track, #tooltip_content::-webkit-scrollbar-track {\\n  -webkit-box-shadow: inset 0 0 6px rgba(0, 0, 0, 0.3);\\n}\\n\\n#meta_content::-webkit-scrollbar-thumb, #tooltip_content::-webkit-scrollbar-thumb {\\n  background-color: darkgrey;\\n  outline: 1px solid slategrey;\\n}\\n\\n.histogram {\\n  display: block;\\n  height: 100px;\\n  padding-top: 50px;\\n  clear: both;\\n}\\n\\n#display .histogram {\\n  opacity: 0.68;\\n}\\n\\n.bin {\\n  width: 10%;\\n  float: left;\\n}\\n\\n.bin div {\\n  font-size: 10px;\\n  display: block;\\n  width: 35px;\\n  margin-top: -30px;\\n  text-align: right;\\n  margin-left: -3px;\\n  -webkit-transform: rotate(-90deg);\\n  -moz-transform: rotate(-90deg);\\n  -ms-transform: rotate(-90deg);\\n  -o-transform: rotate(-90deg);\\n}\\n\\n.histogram:hover {\\n  opacity: 1.;\\n}\\n\\n#display .circle {\\n  stroke-opacity: 0.18;\\n  stroke-width: 7px;\\n  stroke: #000;\\n}\\n\\n#print .circle {\\n  stroke-opacity: 1;\\n  stroke-width: 2px;\\n  stroke: #000;\\n  stroke-linecap: round;\\n}\\n\\n#print .link {\\n  stroke: #000;\\n}\\n\\n#display .link {\\n  stroke: rgba(160, 160, 160, 0.5);\\n}\\n\\ntable {\\n  border-collapse: collapse;\\n  display: table;\\n  width: 100%;\\n  margin-bottom: 20px;\\n}\\n\\ntd, th {\\n  padding: 5px;\\n  text-align: left;\\n}\\n\\n#display th {\\n  background: #212121\\n}\\n\\ntd {\\n  border-bottom: 1px solid #111;\\n}\\n\\n.highlight {\\n  filter: url(#drop-shadow-pulse);\\n}\\n\\n.control-row {\\n  padding: 5px 0px;\\n}\\n\\n.btn {\\n  display: inline-block;\\n  padding: 0.35em 1.2em;\\n  border: 0.1em solid #FFFFFF;\\n  margin: 0 0.3em 0.3em 0;\\n  border-radius: 0.12em;\\n  box-sizing: border-box;\\n  text-decoration: none;\\n  background-color: transparent;\\n  font-weight: 300;\\n  color: #FFFFFF;\\n  text-align: center;\\n  transition: all 0.2s;\\n}\\n\\n.btn:hover {\\n  color: #000000;\\n  background-color: #FFFFFF;\\n}\\n\\n.btn:disabled {\\n  color: #FFFFFF;\\n  opacity: .35;\\n}\\n\\n#print .btn {\\n  color: #000;\\n  border-color: #000\\n}\\n\\n#print .btn:hover {\\n  color: #FFFFFF;\\n  background-color: #000000\\n}\\n\\n#print .btn:disabled {}\\n\\n#toolbar .btn {\\n  padding: 0 1.2em;\\n}\\n\\nlabel {\\n  display: inline-block;\\n  margin-bottom: .5rem;\\n}\\n\\n#config-file-loader {\\n  margin-bottom: .5em;\\n}\\n\\n.btn:not(:disabled):not(.disabled) {\\n    cursor: pointer;\\n}\\n\\n.wrap {\\n  display: flex;\\n}\\n\\n.wrap-header div:last-child {\\n  margin-left: auto;\\n}\\n\\n.wrap-end {\\n  justify-content: flex-end;\\n}\\n\\n.wrap-logo {\\n  display: flex;\\n  justify-content: center;\\n  align-items: center;\\n}\\n\\n.wrap-logo .logo {\\n  margin: auto;\\n}\\n\\n.wrap-header {\\n  /* padding: 5px 10px; */\\n  padding: 5px 5px 5px 10px;\\n  justify-content: space-between;\\n}\\n\\n#display .wrap-header {\\n  box-shadow: 0px 0px 4px #000;\\n}\\n\\n.toolbar-container {\\n  margin-left: -10px;\\n}\\n</style>\\n\\n</head>\\n\\n<body id=\"display\">\\n\\n  <!-- Variables used later -->\\n  <script>\\n    const graph = {\"links\": [{\"source\": 1, \"target\": 7, \"width\": 1}, {\"source\": 3, \"target\": 7, \"width\": 1}, {\"source\": 4, \"target\": 9, \"width\": 1}, {\"source\": 5, \"target\": 10, \"width\": 1}, {\"source\": 5, \"target\": 11, \"width\": 1}, {\"source\": 6, \"target\": 9, \"width\": 1}, {\"source\": 6, \"target\": 10, \"width\": 1}, {\"source\": 8, \"target\": 13, \"width\": 1}, {\"source\": 8, \"target\": 14, \"width\": 1}, {\"source\": 10, \"target\": 15, \"width\": 1}, {\"source\": 11, \"target\": 13, \"width\": 1}, {\"source\": 11, \"target\": 15, \"width\": 1}], \"nodes\": [{\"color\": [[0.0], [0.0], [0.0], [0.0], [0.0]], \"id\": \"\", \"name\": \"cube0_cluster0\", \"size\": 1, \"tooltip\": {\"cluster_stats\": {\"above\": [], \"below\": [], \"size\": 1}, \"custom_tooltips\": [59], \"dist_label\": \"Member\", \"histogram\": [[{\"color\": \"rgb(70, 18, 100)\", \"height\": 100.0, \"perc\": 100.0}, {\"color\": \"rgb(68, 51, 125)\", \"height\": 0.0, \"perc\": 0.0}, {\"color\": \"rgb(58, 80, 138)\", \"height\": 0.0, \"perc\": 0.0}, {\"color\": \"rgb(46, 107, 141)\", \"height\": 0.0, \"perc\": 0.0}, {\"color\": \"rgb(36, 131, 141)\", \"height\": 0.0, \"perc\": 0.0}, {\"color\": \"rgb(33, 155, 136)\", \"height\": 0.0, \"perc\": 0.0}, {\"color\": \"rgb(51, 178, 121)\", \"height\": 0.0, \"perc\": 0.0}, {\"color\": \"rgb(94, 199, 96)\", \"height\": 0.0, \"perc\": 0.0}, {\"color\": \"rgb(155, 215, 59)\", \"height\": 0.0, \"perc\": 0.0}, {\"color\": \"rgb(220, 226, 37)\", \"height\": 0.0, \"perc\": 0.0}]], \"node_id\": \"cube0_cluster0\", \"projection_stats\": []}, \"type\": \"circle\"}, {\"color\": [[0.2427745664739884], [0.031528069695478944], [1.9421965317919072], [0.3063583815028902], [0.1907514450867052]], \"id\": \"\", \"name\": \"cube0_cluster1\", \"size\": 3, \"tooltip\": {\"cluster_stats\": {\"above\": [], \"below\": [], \"size\": 8}, \"custom_tooltips\": [17, 91, 145, 338, 363, 466, 787, 842], \"dist_label\": \"Member\", \"histogram\": [[{\"color\": \"rgb(70, 18, 100)\", \"height\": 0.0, \"perc\": 0.0}, {\"color\": \"rgb(68, 51, 125)\", \"height\": 17.0, \"perc\": 12.5}, {\"color\": \"rgb(58, 80, 138)\", \"height\": 100.0, \"perc\": 75.0}, {\"color\": \"rgb(46, 107, 141)\", \"height\": 17.0, \"perc\": 12.5}, {\"color\": \"rgb(36, 131, 141)\", \"height\": 0.0, \"perc\": 0.0}, {\"color\": \"rgb(33, 155, 136)\", \"height\": 0.0, \"perc\": 0.0}, {\"color\": \"rgb(51, 178, 121)\", \"height\": 0.0, \"perc\": 0.0}, {\"color\": \"rgb(94, 199, 96)\", \"height\": 0.0, \"perc\": 0.0}, {\"color\": \"rgb(155, 215, 59)\", \"height\": 0.0, \"perc\": 0.0}, {\"color\": \"rgb(220, 226, 37)\", \"height\": 0.0, \"perc\": 0.0}]], \"node_id\": \"cube0_cluster1\", \"projection_stats\": []}, \"type\": \"circle\"}, {\"color\": [[0.11560693641618494], [0.0], [0.11560693641618494], [0.11560693641618494], [0.11560693641618494]], \"id\": \"\", \"name\": \"cube0_cluster2\", \"size\": 1, \"tooltip\": {\"cluster_stats\": {\"above\": [], \"below\": [], \"size\": 1}, \"custom_tooltips\": [980], \"dist_label\": \"Member\", \"histogram\": [[{\"color\": \"rgb(70, 18, 100)\", \"height\": 0.0, \"perc\": 0.0}, {\"color\": \"rgb(68, 51, 125)\", \"height\": 100.0, \"perc\": 100.0}, {\"color\": \"rgb(58, 80, 138)\", \"height\": 0.0, \"perc\": 0.0}, {\"color\": \"rgb(46, 107, 141)\", \"height\": 0.0, \"perc\": 0.0}, {\"color\": \"rgb(36, 131, 141)\", \"height\": 0.0, \"perc\": 0.0}, {\"color\": \"rgb(33, 155, 136)\", \"height\": 0.0, \"perc\": 0.0}, {\"color\": \"rgb(51, 178, 121)\", \"height\": 0.0, \"perc\": 0.0}, {\"color\": \"rgb(94, 199, 96)\", \"height\": 0.0, \"perc\": 0.0}, {\"color\": \"rgb(155, 215, 59)\", \"height\": 0.0, \"perc\": 0.0}, {\"color\": \"rgb(220, 226, 37)\", \"height\": 0.0, \"perc\": 0.0}]], \"node_id\": \"cube0_cluster2\", \"projection_stats\": []}, \"type\": \"circle\"}, {\"color\": [[0.08670520231213871], [0.0], [0.08670520231213871], [0.08670520231213871], [0.08670520231213871]], \"id\": \"\", \"name\": \"cube0_cluster3\", \"size\": 1, \"tooltip\": {\"cluster_stats\": {\"above\": [], \"below\": [], \"size\": 1}, \"custom_tooltips\": [327], \"dist_label\": \"Member\", \"histogram\": [[{\"color\": \"rgb(70, 18, 100)\", \"height\": 100.0, \"perc\": 100.0}, {\"color\": \"rgb(68, 51, 125)\", \"height\": 0.0, \"perc\": 0.0}, {\"color\": \"rgb(58, 80, 138)\", \"height\": 0.0, \"perc\": 0.0}, {\"color\": \"rgb(46, 107, 141)\", \"height\": 0.0, \"perc\": 0.0}, {\"color\": \"rgb(36, 131, 141)\", \"height\": 0.0, \"perc\": 0.0}, {\"color\": \"rgb(33, 155, 136)\", \"height\": 0.0, \"perc\": 0.0}, {\"color\": \"rgb(51, 178, 121)\", \"height\": 0.0, \"perc\": 0.0}, {\"color\": \"rgb(94, 199, 96)\", \"height\": 0.0, \"perc\": 0.0}, {\"color\": \"rgb(155, 215, 59)\", \"height\": 0.0, \"perc\": 0.0}, {\"color\": \"rgb(220, 226, 37)\", \"height\": 0.0, \"perc\": 0.0}]], \"node_id\": \"cube0_cluster3\", \"projection_stats\": []}, \"type\": \"circle\"}, {\"color\": [[0.34071327298505827], [0.044794294030086126], [18.05780346820809], [0.4161849710982659], [0.2312138728323699]], \"id\": \"\", \"name\": \"cube1_cluster0\", \"size\": 4, \"tooltip\": {\"cluster_stats\": {\"above\": [], \"below\": [], \"size\": 53}, \"custom_tooltips\": [7, 11, 18, 33, 52, 55, 61, 66, 74, 75, 81, 84, 93, 131, 217, 231, 281, 284, 296, 298, 324, 331, 337, 375, 383, 384, 395, 401, 424, 448, 527, 528, 552, 554, 565, 616, 683, 706, 723, 724, 729, 777, 785, 807, 810, 811, 840, 862, 902, 910, 921, 928, 988], \"dist_label\": \"Member\", \"histogram\": [[{\"color\": \"rgb(70, 18, 100)\", \"height\": 0.0, \"perc\": 0.0}, {\"color\": \"rgb(68, 51, 125)\", \"height\": 0.0, \"perc\": 0.0}, {\"color\": \"rgb(58, 80, 138)\", \"height\": 22.0, \"perc\": 17.0}, {\"color\": \"rgb(46, 107, 141)\", \"height\": 100.0, \"perc\": 77.4}, {\"color\": \"rgb(36, 131, 141)\", \"height\": 7.0, \"perc\": 5.7}, {\"color\": \"rgb(33, 155, 136)\", \"height\": 0.0, \"perc\": 0.0}, {\"color\": \"rgb(51, 178, 121)\", \"height\": 0.0, \"perc\": 0.0}, {\"color\": \"rgb(94, 199, 96)\", \"height\": 0.0, \"perc\": 0.0}, {\"color\": \"rgb(155, 215, 59)\", \"height\": 0.0, \"perc\": 0.0}, {\"color\": \"rgb(220, 226, 37)\", \"height\": 0.0, \"perc\": 0.0}]], \"node_id\": \"cube1_cluster0\", \"projection_stats\": []}, \"type\": \"circle\"}, {\"color\": [[0.5821965317919076], [0.04705983375259286], [29.109826589595375], [0.7167630057803468], [0.5260115606936416]], \"id\": \"\", \"name\": \"cube1_cluster1\", \"size\": 4, \"tooltip\": {\"cluster_stats\": {\"above\": [], \"below\": [], \"size\": 50}, \"custom_tooltips\": [37, 42, 69, 108, 118, 178, 181, 212, 224, 308, 350, 357, 365, 368, 371, 396, 402, 414, 422, 454, 536, 537, 558, 572, 573, 579, 587, 589, 658, 665, 675, 694, 709, 737, 748, 758, 760, 772, 783, 789, 790, 816, 844, 874, 892, 912, 913, 947, 958, 973], \"dist_label\": \"Member\", \"histogram\": [[{\"color\": \"rgb(70, 18, 100)\", \"height\": 0.0, \"perc\": 0.0}, {\"color\": \"rgb(68, 51, 125)\", \"height\": 0.0, \"perc\": 0.0}, {\"color\": \"rgb(58, 80, 138)\", \"height\": 0.0, \"perc\": 0.0}, {\"color\": \"rgb(46, 107, 141)\", \"height\": 0.0, \"perc\": 0.0}, {\"color\": \"rgb(36, 131, 141)\", \"height\": 0.0, \"perc\": 0.0}, {\"color\": \"rgb(33, 155, 136)\", \"height\": 100.0, \"perc\": 72.0}, {\"color\": \"rgb(51, 178, 121)\", \"height\": 36.0, \"perc\": 26.0}, {\"color\": \"rgb(94, 199, 96)\", \"height\": 3.0, \"perc\": 2.0}, {\"color\": \"rgb(155, 215, 59)\", \"height\": 0.0, \"perc\": 0.0}, {\"color\": \"rgb(220, 226, 37)\", \"height\": 0.0, \"perc\": 0.0}]], \"node_id\": \"cube1_cluster1\", \"projection_stats\": []}, \"type\": \"circle\"}, {\"color\": [[0.4581982236007331], [0.03405429252176893], [37.57225433526011], [0.5144508670520231], [0.3872832369942196]], \"id\": \"\", \"name\": \"cube1_cluster2\", \"size\": 5, \"tooltip\": {\"cluster_stats\": {\"above\": [], \"below\": [], \"size\": 82}, \"custom_tooltips\": [3, 9, 14, 22, 44, 50, 57, 72, 80, 82, 113, 129, 136, 142, 162, 163, 166, 174, 176, 182, 184, 188, 198, 225, 250, 262, 272, 280, 307, 309, 323, 329, 339, 353, 362, 408, 433, 435, 455, 457, 460, 481, 484, 504, 524, 531, 564, 575, 578, 597, 607, 620, 628, 629, 640, 648, 650, 671, 688, 690, 734, 741, 761, 770, 775, 780, 794, 799, 822, 824, 858, 860, 869, 884, 889, 914, 917, 929, 948, 961, 972, 986], \"dist_label\": \"Member\", \"histogram\": [[{\"color\": \"rgb(70, 18, 100)\", \"height\": 0.0, \"perc\": 0.0}, {\"color\": \"rgb(68, 51, 125)\", \"height\": 0.0, \"perc\": 0.0}, {\"color\": \"rgb(58, 80, 138)\", \"height\": 0.0, \"perc\": 0.0}, {\"color\": \"rgb(46, 107, 141)\", \"height\": 6.0, \"perc\": 4.9}, {\"color\": \"rgb(36, 131, 141)\", \"height\": 100.0, \"perc\": 84.1}, {\"color\": \"rgb(33, 155, 136)\", \"height\": 13.0, \"perc\": 11.0}, {\"color\": \"rgb(51, 178, 121)\", \"height\": 0.0, \"perc\": 0.0}, {\"color\": \"rgb(94, 199, 96)\", \"height\": 0.0, \"perc\": 0.0}, {\"color\": \"rgb(155, 215, 59)\", \"height\": 0.0, \"perc\": 0.0}, {\"color\": \"rgb(220, 226, 37)\", \"height\": 0.0, \"perc\": 0.0}]], \"node_id\": \"cube1_cluster2\", \"projection_stats\": []}, \"type\": \"circle\"}, {\"color\": [[0.2010734929810074], [0.0687482485769889], [2.8150289017341037], [0.3063583815028902], [0.06936416184971098]], \"id\": \"\", \"name\": \"cube1_cluster3\", \"size\": 3, \"tooltip\": {\"cluster_stats\": {\"above\": [], \"below\": [], \"size\": 14}, \"custom_tooltips\": [76, 91, 145, 211, 327, 338, 363, 466, 555, 596, 601, 842, 895, 896], \"dist_label\": \"Member\", \"histogram\": [[{\"color\": \"rgb(70, 18, 100)\", \"height\": 29.0, \"perc\": 14.3}, {\"color\": \"rgb(68, 51, 125)\", \"height\": 57.0, \"perc\": 28.6}, {\"color\": \"rgb(58, 80, 138)\", \"height\": 100.0, \"perc\": 50.0}, {\"color\": \"rgb(46, 107, 141)\", \"height\": 14.0, \"perc\": 7.1}, {\"color\": \"rgb(36, 131, 141)\", \"height\": 0.0, \"perc\": 0.0}, {\"color\": \"rgb(33, 155, 136)\", \"height\": 0.0, \"perc\": 0.0}, {\"color\": \"rgb(51, 178, 121)\", \"height\": 0.0, \"perc\": 0.0}, {\"color\": \"rgb(94, 199, 96)\", \"height\": 0.0, \"perc\": 0.0}, {\"color\": \"rgb(155, 215, 59)\", \"height\": 0.0, \"perc\": 0.0}, {\"color\": \"rgb(220, 226, 37)\", \"height\": 0.0, \"perc\": 0.0}]], \"node_id\": \"cube1_cluster3\", \"projection_stats\": []}, \"type\": \"circle\"}, {\"color\": [[0.7860123263024922], [0.05213770975976934], [118.68786127167631], [0.9479768786127166], [0.7109826589595376]], \"id\": \"\", \"name\": \"cube2_cluster0\", \"size\": 6, \"tooltip\": {\"cluster_stats\": {\"above\": [], \"below\": [], \"size\": 151}, \"custom_tooltips\": [1, 4, 5, 12, 15, 24, 36, 38, 54, 85, 86, 89, 95, 110, 116, 117, 133, 134, 148, 155, 158, 161, 168, 177, 189, 191, 194, 199, 200, 201, 208, 232, 251, 257, 258, 259, 260, 266, 278, 282, 283, 287, 289, 294, 302, 304, 310, 316, 320, 321, 322, 345, 347, 352, 369, 378, 423, 440, 441, 443, 450, 463, 468, 472, 475, 490, 500, 514, 515, 516, 518, 519, 535, 545, 560, 563, 574, 581, 583, 584, 599, 602, 632, 633, 636, 641, 642, 643, 645, 649, 651, 654, 660, 667, 672, 673, 674, 676, 677, 687, 691, 692, 693, 696, 715, 716, 718, 722, 728, 730, 745, 753, 759, 762, 773, 778, 781, 782, 786, 797, 801, 804, 805, 814, 819, 821, 823, 828, 831, 833, 837, 843, 857, 863, 885, 897, 899, 901, 904, 911, 941, 951, 959, 969, 975, 983, 984, 989, 991, 998, 999], \"dist_label\": \"Member\", \"histogram\": [[{\"color\": \"rgb(70, 18, 100)\", \"height\": 0.0, \"perc\": 0.0}, {\"color\": \"rgb(68, 51, 125)\", \"height\": 0.0, \"perc\": 0.0}, {\"color\": \"rgb(58, 80, 138)\", \"height\": 0.0, \"perc\": 0.0}, {\"color\": \"rgb(46, 107, 141)\", \"height\": 0.0, \"perc\": 0.0}, {\"color\": \"rgb(36, 131, 141)\", \"height\": 0.0, \"perc\": 0.0}, {\"color\": \"rgb(33, 155, 136)\", \"height\": 0.0, \"perc\": 0.0}, {\"color\": \"rgb(51, 178, 121)\", \"height\": 0.0, \"perc\": 0.0}, {\"color\": \"rgb(94, 199, 96)\", \"height\": 100.0, \"perc\": 65.6}, {\"color\": \"rgb(155, 215, 59)\", \"height\": 47.0, \"perc\": 31.1}, {\"color\": \"rgb(220, 226, 37)\", \"height\": 5.0, \"perc\": 3.3}]], \"node_id\": \"cube2_cluster0\", \"projection_stats\": []}, \"type\": \"circle\"}, {\"color\": [[0.4204704006378314], [0.05381988269293118], [48.77456647398844], [0.5028901734104047], [0.2312138728323699]], \"id\": \"\", \"name\": \"cube2_cluster1\", \"size\": 5, \"tooltip\": {\"cluster_stats\": {\"above\": [], \"below\": [], \"size\": 116}, \"custom_tooltips\": [3, 10, 14, 44, 50, 52, 57, 74, 80, 81, 82, 103, 111, 112, 113, 129, 131, 135, 136, 143, 153, 162, 163, 166, 182, 188, 195, 197, 204, 213, 227, 238, 242, 243, 250, 254, 265, 271, 272, 280, 301, 307, 309, 331, 337, 393, 395, 401, 408, 419, 433, 435, 448, 457, 460, 461, 483, 484, 486, 496, 511, 512, 520, 523, 524, 531, 554, 564, 565, 568, 576, 578, 597, 603, 622, 627, 628, 648, 650, 671, 688, 690, 723, 724, 729, 731, 733, 744, 754, 756, 761, 770, 775, 799, 809, 810, 822, 824, 834, 847, 858, 866, 867, 869, 870, 883, 884, 906, 910, 929, 948, 953, 961, 972, 978, 985], \"dist_label\": \"Member\", \"histogram\": [[{\"color\": \"rgb(70, 18, 100)\", \"height\": 0.0, \"perc\": 0.0}, {\"color\": \"rgb(68, 51, 125)\", \"height\": 0.0, \"perc\": 0.0}, {\"color\": \"rgb(58, 80, 138)\", \"height\": 5.0, \"perc\": 3.4}, {\"color\": \"rgb(46, 107, 141)\", \"height\": 41.0, \"perc\": 27.6}, {\"color\": \"rgb(36, 131, 141)\", \"height\": 100.0, \"perc\": 68.1}, {\"color\": \"rgb(33, 155, 136)\", \"height\": 1.0, \"perc\": 0.9}, {\"color\": \"rgb(51, 178, 121)\", \"height\": 0.0, \"perc\": 0.0}, {\"color\": \"rgb(94, 199, 96)\", \"height\": 0.0, \"perc\": 0.0}, {\"color\": \"rgb(155, 215, 59)\", \"height\": 0.0, \"perc\": 0.0}, {\"color\": \"rgb(220, 226, 37)\", \"height\": 0.0, \"perc\": 0.0}]], \"node_id\": \"cube2_cluster1\", \"projection_stats\": []}, \"type\": \"circle\"}, {\"color\": [[0.5447655748233782], [0.03966842865116756], [98.05780346820808], [0.630057803468208], [0.4624277456647399]], \"id\": \"\", \"name\": \"cube2_cluster2\", \"size\": 6, \"tooltip\": {\"cluster_stats\": {\"above\": [], \"below\": [], \"size\": 180}, \"custom_tooltips\": [19, 26, 31, 37, 39, 40, 42, 43, 45, 46, 58, 62, 64, 65, 68, 71, 73, 96, 98, 99, 107, 118, 119, 123, 137, 138, 141, 154, 157, 159, 178, 192, 209, 219, 222, 248, 249, 270, 279, 292, 295, 311, 319, 326, 330, 332, 340, 346, 350, 351, 356, 358, 360, 362, 364, 365, 366, 367, 379, 388, 396, 398, 399, 400, 402, 404, 406, 412, 418, 421, 422, 425, 428, 429, 430, 432, 438, 446, 453, 454, 464, 473, 478, 481, 488, 494, 502, 507, 513, 522, 525, 526, 532, 536, 537, 544, 548, 572, 573, 579, 588, 589, 590, 591, 600, 608, 609, 610, 611, 621, 624, 644, 647, 657, 665, 675, 679, 681, 682, 694, 699, 704, 707, 721, 727, 734, 735, 739, 748, 758, 760, 763, 764, 767, 769, 774, 783, 788, 789, 790, 798, 812, 825, 829, 830, 832, 836, 838, 841, 851, 854, 860, 877, 880, 887, 894, 898, 912, 913, 923, 925, 926, 931, 935, 936, 937, 943, 944, 945, 947, 955, 960, 964, 967, 973, 974, 976, 977, 994, 996], \"dist_label\": \"Member\", \"histogram\": [[{\"color\": \"rgb(70, 18, 100)\", \"height\": 0.0, \"perc\": 0.0}, {\"color\": \"rgb(68, 51, 125)\", \"height\": 0.0, \"perc\": 0.0}, {\"color\": \"rgb(58, 80, 138)\", \"height\": 0.0, \"perc\": 0.0}, {\"color\": \"rgb(46, 107, 141)\", \"height\": 0.0, \"perc\": 0.0}, {\"color\": \"rgb(36, 131, 141)\", \"height\": 23.0, \"perc\": 17.2}, {\"color\": \"rgb(33, 155, 136)\", \"height\": 100.0, \"perc\": 75.0}, {\"color\": \"rgb(51, 178, 121)\", \"height\": 10.0, \"perc\": 7.8}, {\"color\": \"rgb(94, 199, 96)\", \"height\": 0.0, \"perc\": 0.0}, {\"color\": \"rgb(155, 215, 59)\", \"height\": 0.0, \"perc\": 0.0}, {\"color\": \"rgb(220, 226, 37)\", \"height\": 0.0, \"perc\": 0.0}]], \"node_id\": \"cube2_cluster2\", \"projection_stats\": []}, \"type\": \"circle\"}, {\"color\": [[0.6581713084603257], [0.03809411619560059], [159.27745664739882], [0.7514450867052023], [0.5606936416184971]], \"id\": \"\", \"name\": \"cube2_cluster3\", \"size\": 6, \"tooltip\": {\"cluster_stats\": {\"above\": [], \"below\": [], \"size\": 242}, \"custom_tooltips\": [0, 8, 13, 20, 21, 23, 25, 27, 28, 29, 30, 32, 41, 47, 48, 51, 63, 67, 70, 78, 79, 83, 87, 88, 90, 92, 97, 101, 105, 108, 109, 126, 127, 139, 140, 147, 150, 151, 152, 156, 167, 169, 170, 173, 180, 183, 185, 187, 190, 193, 196, 202, 203, 205, 218, 220, 224, 226, 228, 230, 236, 237, 240, 244, 247, 252, 255, 256, 264, 267, 269, 273, 277, 290, 293, 297, 305, 308, 312, 313, 314, 315, 318, 335, 336, 341, 342, 343, 348, 354, 355, 372, 374, 385, 386, 387, 389, 390, 391, 392, 394, 405, 410, 413, 414, 416, 417, 427, 431, 434, 436, 437, 442, 445, 452, 459, 462, 467, 471, 476, 479, 480, 482, 485, 487, 491, 495, 497, 498, 499, 506, 510, 517, 529, 530, 534, 540, 547, 553, 556, 557, 558, 559, 561, 567, 569, 570, 582, 585, 586, 592, 593, 595, 598, 605, 613, 615, 619, 626, 630, 635, 639, 646, 653, 655, 656, 661, 662, 663, 666, 668, 670, 680, 684, 697, 698, 701, 703, 705, 714, 720, 726, 737, 743, 746, 747, 750, 751, 757, 765, 766, 768, 771, 772, 776, 791, 792, 795, 796, 800, 806, 817, 818, 826, 827, 835, 839, 848, 850, 856, 868, 871, 878, 879, 881, 882, 888, 892, 908, 909, 915, 918, 920, 922, 924, 927, 930, 932, 933, 939, 940, 949, 952, 954, 963, 965, 966, 968, 971, 992, 993, 997], \"dist_label\": \"Member\", \"histogram\": [[{\"color\": \"rgb(70, 18, 100)\", \"height\": 0.0, \"perc\": 0.0}, {\"color\": \"rgb(68, 51, 125)\", \"height\": 0.0, \"perc\": 0.0}, {\"color\": \"rgb(58, 80, 138)\", \"height\": 0.0, \"perc\": 0.0}, {\"color\": \"rgb(46, 107, 141)\", \"height\": 0.0, \"perc\": 0.0}, {\"color\": \"rgb(36, 131, 141)\", \"height\": 0.0, \"perc\": 0.0}, {\"color\": \"rgb(33, 155, 136)\", \"height\": 6.0, \"perc\": 5.0}, {\"color\": \"rgb(51, 178, 121)\", \"height\": 100.0, \"perc\": 80.6}, {\"color\": \"rgb(94, 199, 96)\", \"height\": 18.0, \"perc\": 14.5}, {\"color\": \"rgb(155, 215, 59)\", \"height\": 0.0, \"perc\": 0.0}, {\"color\": \"rgb(220, 226, 37)\", \"height\": 0.0, \"perc\": 0.0}]], \"node_id\": \"cube2_cluster3\", \"projection_stats\": []}, \"type\": \"circle\"}, {\"color\": [[0.9357856016815557], [0.05524195946896167], [51.46820809248556], [0.9999999999999999], [0.815028901734104]], \"id\": \"\", \"name\": \"cube3_cluster0\", \"size\": 5, \"tooltip\": {\"cluster_stats\": {\"above\": [], \"below\": [], \"size\": 55}, \"custom_tooltips\": [2, 6, 34, 104, 106, 114, 121, 122, 149, 165, 179, 229, 263, 268, 286, 306, 373, 377, 381, 403, 451, 458, 474, 501, 503, 539, 546, 562, 566, 571, 580, 594, 612, 623, 625, 685, 689, 710, 712, 717, 732, 802, 815, 855, 864, 886, 903, 916, 919, 934, 957, 962, 970, 979, 995], \"dist_label\": \"Member\", \"histogram\": [[{\"color\": \"rgb(70, 18, 100)\", \"height\": 0.0, \"perc\": 0.0}, {\"color\": \"rgb(68, 51, 125)\", \"height\": 0.0, \"perc\": 0.0}, {\"color\": \"rgb(58, 80, 138)\", \"height\": 0.0, \"perc\": 0.0}, {\"color\": \"rgb(46, 107, 141)\", \"height\": 0.0, \"perc\": 0.0}, {\"color\": \"rgb(36, 131, 141)\", \"height\": 0.0, \"perc\": 0.0}, {\"color\": \"rgb(33, 155, 136)\", \"height\": 0.0, \"perc\": 0.0}, {\"color\": \"rgb(51, 178, 121)\", \"height\": 0.0, \"perc\": 0.0}, {\"color\": \"rgb(94, 199, 96)\", \"height\": 0.0, \"perc\": 0.0}, {\"color\": \"rgb(155, 215, 59)\", \"height\": 41.0, \"perc\": 29.1}, {\"color\": \"rgb(220, 226, 37)\", \"height\": 100.0, \"perc\": 70.9}]], \"node_id\": \"cube3_cluster0\", \"projection_stats\": []}, \"type\": \"circle\"}, {\"color\": [[0.7372917375042503], [0.03458858993815063], [100.27167630057804], [0.7976878612716762], [0.6647398843930635]], \"id\": \"\", \"name\": \"cube3_cluster1\", \"size\": 5, \"tooltip\": {\"cluster_stats\": {\"above\": [], \"below\": [], \"size\": 136}, \"custom_tooltips\": [4, 24, 25, 35, 36, 53, 60, 77, 85, 95, 115, 117, 124, 128, 132, 133, 134, 144, 146, 160, 170, 191, 199, 205, 207, 208, 210, 215, 221, 223, 235, 239, 245, 246, 253, 257, 261, 274, 275, 282, 285, 288, 289, 291, 294, 299, 300, 304, 310, 317, 321, 328, 333, 345, 349, 361, 370, 372, 382, 391, 407, 411, 415, 441, 443, 444, 447, 449, 469, 489, 500, 505, 508, 541, 542, 545, 560, 574, 581, 583, 593, 602, 617, 634, 638, 639, 642, 643, 654, 660, 669, 676, 678, 686, 687, 691, 693, 700, 716, 718, 719, 725, 738, 740, 745, 752, 771, 778, 784, 786, 793, 801, 804, 805, 808, 813, 814, 837, 843, 849, 859, 868, 872, 893, 901, 905, 946, 950, 951, 952, 959, 969, 981, 984, 987, 990], \"dist_label\": \"Member\", \"histogram\": [[{\"color\": \"rgb(70, 18, 100)\", \"height\": 0.0, \"perc\": 0.0}, {\"color\": \"rgb(68, 51, 125)\", \"height\": 0.0, \"perc\": 0.0}, {\"color\": \"rgb(58, 80, 138)\", \"height\": 0.0, \"perc\": 0.0}, {\"color\": \"rgb(46, 107, 141)\", \"height\": 0.0, \"perc\": 0.0}, {\"color\": \"rgb(36, 131, 141)\", \"height\": 0.0, \"perc\": 0.0}, {\"color\": \"rgb(33, 155, 136)\", \"height\": 0.0, \"perc\": 0.0}, {\"color\": \"rgb(51, 178, 121)\", \"height\": 20.0, \"perc\": 16.9}, {\"color\": \"rgb(94, 199, 96)\", \"height\": 100.0, \"perc\": 83.1}, {\"color\": \"rgb(155, 215, 59)\", \"height\": 0.0, \"perc\": 0.0}, {\"color\": \"rgb(220, 226, 37)\", \"height\": 0.0, \"perc\": 0.0}]], \"node_id\": \"cube3_cluster1\", \"projection_stats\": []}, \"type\": \"circle\"}, {\"color\": [[0.853179190751445], [0.03789671250516981], [89.58381502890172], [0.9479768786127166], [0.7861271676300577]], \"id\": \"\", \"name\": \"cube3_cluster2\", \"size\": 5, \"tooltip\": {\"cluster_stats\": {\"above\": [], \"below\": [], \"size\": 105}, \"custom_tooltips\": [16, 38, 49, 56, 86, 89, 94, 102, 110, 116, 120, 125, 130, 161, 164, 171, 172, 175, 189, 214, 216, 233, 234, 241, 276, 316, 325, 334, 347, 359, 369, 376, 380, 397, 409, 420, 426, 439, 456, 463, 465, 468, 470, 492, 493, 509, 514, 515, 516, 521, 533, 543, 551, 577, 604, 606, 614, 618, 633, 637, 641, 652, 659, 667, 695, 696, 702, 708, 711, 713, 715, 722, 728, 736, 742, 749, 753, 755, 762, 779, 781, 782, 803, 819, 820, 821, 831, 833, 845, 846, 852, 861, 865, 873, 876, 890, 891, 900, 907, 938, 941, 956, 982, 983, 999], \"dist_label\": \"Member\", \"histogram\": [[{\"color\": \"rgb(70, 18, 100)\", \"height\": 0.0, \"perc\": 0.0}, {\"color\": \"rgb(68, 51, 125)\", \"height\": 0.0, \"perc\": 0.0}, {\"color\": \"rgb(58, 80, 138)\", \"height\": 0.0, \"perc\": 0.0}, {\"color\": \"rgb(46, 107, 141)\", \"height\": 0.0, \"perc\": 0.0}, {\"color\": \"rgb(36, 131, 141)\", \"height\": 0.0, \"perc\": 0.0}, {\"color\": \"rgb(33, 155, 136)\", \"height\": 0.0, \"perc\": 0.0}, {\"color\": \"rgb(51, 178, 121)\", \"height\": 0.0, \"perc\": 0.0}, {\"color\": \"rgb(94, 199, 96)\", \"height\": 5.0, \"perc\": 3.8}, {\"color\": \"rgb(155, 215, 59)\", \"height\": 100.0, \"perc\": 81.9}, {\"color\": \"rgb(220, 226, 37)\", \"height\": 17.0, \"perc\": 14.3}]], \"node_id\": \"cube3_cluster2\", \"projection_stats\": []}, \"type\": \"circle\"}, {\"color\": [[0.6162352349836642], [0.04419984040373952], [42.520231213872826], [0.6878612716763005], [0.49710982658959535]], \"id\": \"\", \"name\": \"cube3_cluster3\", \"size\": 5, \"tooltip\": {\"cluster_stats\": {\"above\": [], \"below\": [], \"size\": 69}, \"custom_tooltips\": [0, 13, 51, 83, 100, 126, 140, 147, 151, 186, 193, 206, 226, 230, 240, 244, 264, 279, 290, 303, 336, 344, 348, 389, 390, 392, 398, 417, 434, 436, 437, 459, 464, 467, 476, 477, 479, 480, 499, 510, 534, 538, 540, 547, 549, 550, 553, 559, 605, 631, 656, 661, 664, 668, 765, 767, 836, 853, 856, 875, 922, 924, 925, 939, 940, 942, 955, 964, 971], \"dist_label\": \"Member\", \"histogram\": [[{\"color\": \"rgb(70, 18, 100)\", \"height\": 0.0, \"perc\": 0.0}, {\"color\": \"rgb(68, 51, 125)\", \"height\": 0.0, \"perc\": 0.0}, {\"color\": \"rgb(58, 80, 138)\", \"height\": 0.0, \"perc\": 0.0}, {\"color\": \"rgb(46, 107, 141)\", \"height\": 0.0, \"perc\": 0.0}, {\"color\": \"rgb(36, 131, 141)\", \"height\": 2.0, \"perc\": 1.4}, {\"color\": \"rgb(33, 155, 136)\", \"height\": 45.0, \"perc\": 30.4}, {\"color\": \"rgb(51, 178, 121)\", \"height\": 100.0, \"perc\": 68.1}, {\"color\": \"rgb(94, 199, 96)\", \"height\": 0.0, \"perc\": 0.0}, {\"color\": \"rgb(155, 215, 59)\", \"height\": 0.0, \"perc\": 0.0}, {\"color\": \"rgb(220, 226, 37)\", \"height\": 0.0, \"perc\": 0.0}]], \"node_id\": \"cube3_cluster3\", \"projection_stats\": []}, \"type\": \"circle\"}]};\\n    const colorscale = [[0.0, \"rgb(68, 1, 84)\"], [0.1, \"rgb(72, 35, 116)\"], [0.2, \"rgb(64, 67, 135)\"], [0.3, \"rgb(52, 94, 141)\"], [0.4, \"rgb(41, 120, 142)\"], [0.5, \"rgb(32, 144, 140)\"], [0.6, \"rgb(34, 167, 132)\"], [0.7, \"rgb(68, 190, 112)\"], [0.8, \"rgb(121, 209, 81)\"], [0.9, \"rgb(189, 222, 38)\"], [1.0, \"rgb(253, 231, 36)\"]];\\n    const summary = {\"color_function_name\": [\"Mean of Reading and Writing Score\"], \"custom_meta\": {\"clusterer\": \"KMeans(n_clusters=4)\", \"n_cubes\": 4, \"perc_overlap\": 0.2, \"projection\": \"[0]\", \"scaler\": \"MinMaxScaler()\"}, \"n_edges\": 12, \"n_nodes\": 16, \"n_total\": 1264, \"n_unique\": 1000, \"node_color_function\": null};\\n    const summary_histogram = [[[{\"color\": \"rgb(70, 18, 100)\", \"height\": 100.0, \"perc\": 12.5}, {\"color\": \"rgb(68, 51, 125)\", \"height\": 50.0, \"perc\": 6.2}, {\"color\": \"rgb(58, 80, 138)\", \"height\": 100.0, \"perc\": 12.5}, {\"color\": \"rgb(46, 107, 141)\", \"height\": 50.0, \"perc\": 6.2}, {\"color\": \"rgb(36, 131, 141)\", \"height\": 100.0, \"perc\": 12.5}, {\"color\": \"rgb(33, 155, 136)\", \"height\": 100.0, \"perc\": 12.5}, {\"color\": \"rgb(51, 178, 121)\", \"height\": 100.0, \"perc\": 12.5}, {\"color\": \"rgb(94, 199, 96)\", \"height\": 100.0, \"perc\": 12.5}, {\"color\": \"rgb(155, 215, 59)\", \"height\": 50.0, \"perc\": 6.2}, {\"color\": \"rgb(220, 226, 37)\", \"height\": 50.0, \"perc\": 6.2}]], [[{\"color\": \"rgb(70, 18, 100)\", \"height\": 100.0, \"perc\": 100.0}, {\"color\": \"rgb(68, 51, 125)\", \"height\": 0.0, \"perc\": 0.0}, {\"color\": \"rgb(58, 80, 138)\", \"height\": 0.0, \"perc\": 0.0}, {\"color\": \"rgb(46, 107, 141)\", \"height\": 0.0, \"perc\": 0.0}, {\"color\": \"rgb(36, 131, 141)\", \"height\": 0.0, \"perc\": 0.0}, {\"color\": \"rgb(33, 155, 136)\", \"height\": 0.0, \"perc\": 0.0}, {\"color\": \"rgb(51, 178, 121)\", \"height\": 0.0, \"perc\": 0.0}, {\"color\": \"rgb(94, 199, 96)\", \"height\": 0.0, \"perc\": 0.0}, {\"color\": \"rgb(155, 215, 59)\", \"height\": 0.0, \"perc\": 0.0}, {\"color\": \"rgb(220, 226, 37)\", \"height\": 0.0, \"perc\": 0.0}]], [[{\"color\": \"rgb(70, 18, 100)\", \"height\": 100.0, \"perc\": 66.7}, {\"color\": \"rgb(68, 51, 125)\", \"height\": 50.0, \"perc\": 33.3}, {\"color\": \"rgb(58, 80, 138)\", \"height\": 0.0, \"perc\": 0.0}, {\"color\": \"rgb(46, 107, 141)\", \"height\": 0.0, \"perc\": 0.0}, {\"color\": \"rgb(36, 131, 141)\", \"height\": 0.0, \"perc\": 0.0}, {\"color\": \"rgb(33, 155, 136)\", \"height\": 0.0, \"perc\": 0.0}, {\"color\": \"rgb(51, 178, 121)\", \"height\": 0.0, \"perc\": 0.0}, {\"color\": \"rgb(94, 199, 96)\", \"height\": 0.0, \"perc\": 0.0}, {\"color\": \"rgb(155, 215, 59)\", \"height\": 0.0, \"perc\": 0.0}, {\"color\": \"rgb(220, 226, 37)\", \"height\": 0.0, \"perc\": 0.0}]], [[{\"color\": \"rgb(70, 18, 100)\", \"height\": 67.0, \"perc\": 12.5}, {\"color\": \"rgb(68, 51, 125)\", \"height\": 33.0, \"perc\": 6.2}, {\"color\": \"rgb(58, 80, 138)\", \"height\": 0.0, \"perc\": 0.0}, {\"color\": \"rgb(46, 107, 141)\", \"height\": 67.0, \"perc\": 12.5}, {\"color\": \"rgb(36, 131, 141)\", \"height\": 33.0, \"perc\": 6.2}, {\"color\": \"rgb(33, 155, 136)\", \"height\": 67.0, \"perc\": 12.5}, {\"color\": \"rgb(51, 178, 121)\", \"height\": 67.0, \"perc\": 12.5}, {\"color\": \"rgb(94, 199, 96)\", \"height\": 100.0, \"perc\": 18.8}, {\"color\": \"rgb(155, 215, 59)\", \"height\": 0.0, \"perc\": 0.0}, {\"color\": \"rgb(220, 226, 37)\", \"height\": 100.0, \"perc\": 18.8}]], [[{\"color\": \"rgb(70, 18, 100)\", \"height\": 100.0, \"perc\": 18.8}, {\"color\": \"rgb(68, 51, 125)\", \"height\": 67.0, \"perc\": 12.5}, {\"color\": \"rgb(58, 80, 138)\", \"height\": 67.0, \"perc\": 12.5}, {\"color\": \"rgb(46, 107, 141)\", \"height\": 33.0, \"perc\": 6.2}, {\"color\": \"rgb(36, 131, 141)\", \"height\": 67.0, \"perc\": 12.5}, {\"color\": \"rgb(33, 155, 136)\", \"height\": 67.0, \"perc\": 12.5}, {\"color\": \"rgb(51, 178, 121)\", \"height\": 33.0, \"perc\": 6.2}, {\"color\": \"rgb(94, 199, 96)\", \"height\": 67.0, \"perc\": 12.5}, {\"color\": \"rgb(155, 215, 59)\", \"height\": 33.0, \"perc\": 6.2}, {\"color\": \"rgb(220, 226, 37)\", \"height\": 0.0, \"perc\": 0.0}]]];\\n  </script>\\n\\n  <div id=\"header\">\\n    <div class=\"wrap wrap-header\">\\n\\n      <div class=\"\">\\n\\n        <!-- toolbar -->\\n        <div class=\"toolbar-container\">\\n        \\n<div id=\"toolbar\" class=\\'wrap\\'>\\n    <div id=\"tooltip_control\" class=\"tool_item\">\\n        <h3>\\n        <a href=\"#\"><small id=\"tooltip_tag\">[+]</small></a>\\n        Cluster Details\\n        </h3>\\n    </div>\\n\\n    <div id=\"meta_control\" class=\"tool_item\">\\n        <h3>\\n        <a href=\"#\"><small id=\"meta_tag\">[+]</small></a>\\n        Mapper Summary\\n        </h3>\\n    </div>\\n\\n    <div id=\"help_control\" class=\"tool_item\">\\n        <h3>\\n        <a href=\"#\"><small id=\"helptip_tag\">[+]</small></a>\\n        Help\\n        </h3>\\n    </div>\\n\\n    \\n\\n    \\n    <div id=\"node_color_function_control\" class=\"tool_item\">\\n      <h3>Node Color Function\\n        <select class=\"btn\" id=\\'select-node-color-function\\' name=\"node_color_function\">\\n        \\n          <option value=\"0\">average</option>\\n        \\n          <option value=\"1\">std</option>\\n        \\n          <option value=\"2\">sum</option>\\n        \\n          <option value=\"3\">max</option>\\n        \\n          <option value=\"4\">min</option>\\n        \\n        </select>\\n      </h3>\\n    </div>\\n    \\n\\n    \\n\\n</div>\\n        </div>\\n        <!-- /toolbar -->\\n\\n        <div class=\\'banner\\'>\\n          <noscript><b>Requires JavaScript (d3.js) for visualizations</b></noscript>\\n          <h1> Performance Data based on Math Score and Mean of other two </h1>\\n        </div>\\n\\n      </div>\\n\\n      <div class=\"wrap-logo\">\\n        <img id=\"logo\" class=\\'logo\\' src=\"data:image/png;base64, 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\">\\n      </div>\\n    </div>\\n\\n  </div>\\n\\n    <div id=\"canvas\" class=\\'canvas\\'>\\n      <!-- Graph will go in here -->\\n      <svg id=\\'svg\\'>\\n        <defs>\\n          <filter id=\"drop-shadow-glow\" filterUnits=\"userSpaceOnUse\" width=\"250%\" height=\"250%\">\\n            <feGaussianBlur in=\"SourceGraphic\" stdDeviation=\"12\" result=\"blur-out\"/>\\n            <feColorMatrix in=\"blur-out\" type=\"hueRotate\" values=\"0\" result=\"color-out\"/>\\n            <feOffset in=\"color-out\" dx=\"0\" dy=\"0\" result=\"the-shadow\"/>\\n            <feComponentTransfer type=\"linear\" slope=\"0.2\" result=\"shadow-opacity\"/>\\n            <feBlend in=\"SourceGraphic\" in2=\"the-shadow\" mode=\"normal\"/>\\n          </filter>\\n          <filter id=\"drop-shadow-pulse\" filterUnits=\"userSpaceOnUse\" width=\"250%\" height=\"250%\">\\n            <feGaussianBlur in=\"SourceGraphic\" stdDeviation=\"12\" result=\"blur-out\">\\n              <animate attributeName=\"stdDeviation\" from=\"0\" to=\"100\" dur=\"1.5s\" repeatCount=\"indefinite\" />\\n            </feGaussianBlur>\\n            <feColorMatrix in=\"blur-out\" type=\"hueRotate\" values=\"0\" result=\"color-out\"/>\\n            <feOffset in=\"color-out\" dx=\"0\" dy=\"0\" result=\"the-shadow\"/>\\n            <feComponentTransfer type=\"linear\" slope=\"0.2\" result=\"shadow-opacity\"/>\\n            <feBlend in=\"SourceGraphic\" in2=\"the-shadow\" mode=\"normal\"/>\\n          </filter>\\n        </defs>\\n      </svg>\\n\\n    <!-- Panes for each of the tips -->\\n    <div id=\"tooltip\" class=\\'pane pane-left\\'>\\n      <div id=\"tooltip_content\" class=\"pane_content\">\\n        <div id=\\'tooltip_content_no_focus_node\\'>\\n          Hover over a node to see attributes about it.\\n        </div>\\n        <div id=\\'tooltip_content_focus_node\\' style=\\'display:none\\'>\\n        <div>\\n  <div class=\\'actions\\'>\\n    <h3>Actions</h3>\\n    <p>\\n      <button class=\\'btn center-on-node\\'>Center viewport on node</button>\\n    </p>\\n  </div>\\n\\n  <div class=\\'details\\'>\\n    <h2>Cluster Details <span style=\"font-size:0.7em\">(node id: <span class=\\'node_id\\'></span>)</span></h2>\\n\\n    <!-- histogram -->\\n    <div class=\\'histogram-wrapper\\'>\\n      <hr><br/>\\n\\n      <h3><span class=\\'distribution_label\\'></span> Distribution</h3>\\n\\n      <div class=\"histogram\"></div>\\n\\n      <br><br>\\n    </div>\\n    <!-- /histogram -->\\n\\n    <!-- Projection Statistics -->\\n    <div class=\\'projection_stats\\' style=\\'display:none\\'>\\n\\n      <hr><br/>\\n\\n      <h3>Projection Statistics</h3>\\n      <table>\\n        <thead>\\n          <tr>\\n            <th>Lens</th>\\n            <th style=\"width:50px;\"><small>Mean</small></th>\\n            <th style=\"width:50px;\"><small>Max</small></th>\\n            <th style=\"width:50px;\"><small>Min</small></th>\\n          </tr>\\n        </thead>\\n        <tbody></tbody>\\n      </table>\\n    </div>\\n\\n    <!-- Cluster Statistics -->\\n    <div class=\\'cluster_stats\\'>\\n        <hr><br/>\\n\\n        <h3>Cluster Statistics</h3>\\n        <div class=\\'above-wrapper\\'>\\n            <h3>Above Average</h3>\\n            <table>\\n              <thead>\\n                <tr>\\n                  <th>Feature</th>\\n                  <th style=\"width:50px;\"><small>Mean</small></th>\\n                  <th style=\"width:50px;\"><small>STD</small></th>\\n                </tr>\\n              </thead>\\n              <tbody></tbody>\\n            </table>\\n        </div>\\n\\n        <div class=\\'below-wrapper\\'>\\n            <h3>Below Average</h3>\\n            <table>\\n              <thead>\\n                <tr>\\n                  <th>Feature</th>\\n                  <th style=\"width:50px;\"><small>Mean</small></th>\\n                  <th style=\"width:50px;\"><small>STD</small></th>\\n                </tr>\\n              </thead>\\n              <tbody></tbody>\\n            </table>\\n        </div>\\n\\n        <h3>Size</h3>\\n        <p class=\\'cluster-size\\'></p>\\n    </div>\\n\\n    <!-- Membership information -->\\n    <div class=\\'membership-information\\'>\\n      <hr> <br/>\\n\\n      <h3>Members</h3>\\n      <div class=\\'list-of-members\\'></div>\\n\\n      <br><br>\\n      <hr><br>\\n    </div>\\n    <!-- /membership information -->\\n  </div>\\n</div>\\n        </div>\\n      </div>\\n    </div>\\n\\n    <div id=\"helptip\" class=\\'pane pane-right\\'>\\n      <div id=\"helptip_content\" class=\"pane_content\">\\n        <!-- Help pane.\\n    TODO: Add more information here.  -->\\n\\n<ul>\\n<li>Click on a node to lock focus on that node. The node with the current focus will pulse. Click off of a node to release the lock.</li>\\n<li>Dragging a node will fix its position on the screen. Double-click a fixed-position node to unfreeze it.</li>\\n</ul>\\n\\n<table>\\n    <tr>\\n        <th>Key</th>\\n        <th><small>Action</small></th>\\n    </tr>\\n\\n    <tr>\\n        <td>s</td>\\n        <td><small>Nodes glow :D</small></td>\\n    </tr>\\n\\n    <tr>\\n        <td>c</td>\\n        <td><small>remove glow</small></td>\\n    </tr>\\n\\n    <tr>\\n        <td>p</td>\\n        <td><small>Print mode - white backgrounds</small></td>\\n    </tr>\\n\\n    <tr>\\n        <td>d</td>\\n        <td><small>Display mode - black backgrounds</small></td>\\n    </tr>\\n\\n    <tr>\\n        <td>z</td>\\n        <td><small>Turn off gravity</small></td>\\n    </tr>\\n\\n    <tr>\\n        <td>m</td>\\n        <td><small>Spacious layout</small></td>\\n    </tr>\\n\\n    <tr>\\n        <td>e</td>\\n        <td><small>Tight layout</small></td>\\n    </tr>\\n\\n    <tr>\\n        <td>f</td>\\n        <td><small>Freeze layout</small></td>\\n    </tr>\\n\\n    <tr>\\n        <td>x</td>\\n        <td><small>Unfreeze all nodes</small></td>\\n    </tr>\\n\\n</table>\\n\\n<div class=\"control-wrapper\">\\n  <div class=\"control-row\">\\n    <button class=\\'btn\\' type=\"button\" id=\"download-config\" name=\"download-config\">Save config</button>\\n  </div>\\n\\n  <div class=\"control-row\">\\n    <label for=\"config-file-loader\">Load config file</label>\\n    <input type=\"file\" id=\"config-file-loader\" name=\"config-file-loader\" accept=\"application/json\">\\n    <button class=\\'btn\\' id=\\'load-config\\' disabled>Load</button>\\n  </div>\\n</div>\\n      </div>\\n    </div>\\n\\n    <div id=\"meta\" class=\\'pane pane-right\\'>\\n      <div id=\"meta_content\" class=\"pane_content\">\\n        <h2>Mapper Summary</h2>\\n\\n<hr><br>\\n\\n\\n    \\n        <h3>projection </h3> <p> [0]</p>\\n    \\n        <h3>n_cubes </h3> <p> 4</p>\\n    \\n        <h3>perc_overlap </h3> <p> 0.2</p>\\n    \\n        <h3>clusterer </h3> <p> KMeans(n_clusters=4)</p>\\n    \\n        <h3>scaler </h3> <p> MinMaxScaler()</p>\\n    \\n\\n\\n<h3>Nodes</h3><p> 16 </p>\\n\\n<h3>Edges</h3><p> 12 </p>\\n\\n<h3>Total Samples</h3><p> 1264</p>\\n\\n<h3>Unique Samples</h3><p> 1000</p>\\n\\n<h3>Color function</h3><p>\\n  Mean of Reading and Writing Score\\n</p>\\n\\n<h3>Node Color Functions</h3><p> average, std, sum, max, min</p>\\n\\n\\n<!-- histogram -->\\n<hr><br/>\\n\\n<h3>Node Distribution</h3>\\n\\n<div class=\"histogram\"></div>\\n\\n<br><br>\\n<!-- /histogram -->\\n\\n<hr><br>\\n      </div>\\n    </div>\\n\\n  </div>\\n\\n  <script src=\"https://cdnjs.cloudflare.com/ajax/libs/d3/6.1.1/d3.js\"></script>\\n  <script src=\"https://cdn.jsdelivr.net/npm/file-saver@2.0.2/dist/FileSaver.min.js\"></script>\\n\\n  <script>// Height and width settings\\nvar page_height = window.innerHeight - 5;\\nvar header_height = document.getElementById(\\'header\\').offsetHeight;\\nvar canvas_height = page_height - header_height;\\ndocument.getElementById(\"canvas\").style.height = canvas_height + \"px\";\\nvar width = document.getElementById(\"canvas\").offsetWidth;\\nvar height = document.getElementById(\"canvas\").offsetHeight;\\nvar w = width;\\nvar h = height;\\nvar padding = 40;\\n\\nvar focus_node_id = null;\\nvar focus_node = null;\\nvar text_center = false;\\nvar outline = false;\\n\\n// Size for zooming\\nvar size = d3.scalePow().exponent(1)\\n           .domain([1,100])\\n           .range([8,24]);\\n\\n// Variety of variable inits\\nvar default_node_color = \"#ccc\";\\nvar default_node_color = \"rgba(160,160,160, 0.5)\";\\nvar default_link_color = \"rgba(160,160,160, 0.5)\";\\nvar nominal_base_node_size = 8;\\nvar nominal_text_size = 15;\\nvar max_text_size = 24;\\nvar nominal_stroke = 1.0;\\nvar max_stroke = 4.5;\\nvar max_base_node_size = 36;\\nvar min_zoom = 0.1;\\nvar max_zoom = 7;\\nvar zoom;\\nvar svg, g;\\nvar simulation;\\nvar link, node;\\nvar drag;\\nvar dragging = false;\\nvar circle;\\nvar text;\\nvar focus_via_click = false;\\nvar nodes = [];\\nvar links = [];\\n\\nvar tocolor = \"fill\";\\nvar towhite = \"stroke\";\\nif (outline) {\\n  tocolor = \"stroke\";\\n  towhite = \"fill\";\\n}\\n\\n/**\\n * Side panes\\n */\\n\\n// Show/Hide Functionality\\nfunction toggle_pane(content, content_id, tag) {\\n  var active = content.active ? false : true;\\n\\n  if (active) {\\n    content_id.style(\"display\", \"block\");\\n    tag.node().textContent = \"[-]\";\\n  } else {\\n    content_id.style(\"display\", \"none\");\\n    tag.node().textContent = \"[+]\";\\n  }\\n\\n  // TODO: This is probably not the best way to find the correct height.\\n  var h = canvas_height - content.offsetTop - padding;\\n  content_id.style(\"height\", h + \"px\")\\n\\n  content.active = active;\\n}\\n\\nd3.select(\"#tooltip_control\").on(\"click\", function(e) {\\n  toggle_pane(tooltip_content,\\n              d3.select(\"#tooltip_content\"),\\n              d3.select(\"#tooltip_tag\"))\\n\\n});\\n\\nd3.select(\"#meta_control\").on(\"click\", function(e) {\\n  toggle_pane(meta_content,\\n              d3.select(\"#meta_content\"),\\n              d3.select(\"#meta_tag\"))\\n\\n});\\n\\nd3.select(\"#help_control\").on(\"click\", function(e) {\\n  toggle_pane(helptip_content,\\n              d3.select(\"#helptip_content\"),\\n              d3.select(\"#helptip_tag\"))\\n});\\n\\nd3.select(\\'#select-color-function\\').on(\\'input\\', function(e){\\n  color_function_index = parseInt(e.target.value);\\n  update_color_functions()\\n})\\nd3.select(\\'#select-node-color-function\\').on(\\'input\\', function(e){\\n  node_color_function_index = parseInt(e.target.value);\\n  update_color_functions()\\n})\\n\\n/**\\n *\\n * Set up color scale\\n *\\n *\\n */\\n// var colorscale defined in base.html\\nvar domain = colorscale.map((x)=>x[0])\\nvar palette = colorscale.map((x)=>x[1])\\n\\nvar color = d3.scaleLinear()\\n  .domain(domain)\\n  .range(palette);\\n\\n/*\\n* one-time setups, like SVG and force init\\n*/\\nfunction init() {\\n\\n  zoom = d3.zoom()\\n    .scaleExtent([min_zoom, max_zoom])\\n    .on(\\'zoom\\', zoomed)\\n\\n  // We draw the graph in SVG\\n  svg = d3.select(\"#canvas svg\")\\n          .attr(\"width\", width)\\n          .attr(\"height\", height)\\n          .style(\"cursor\",\"move\")\\n          .call(zoom)\\n          .on(\\'dblclick.zoom\\', null); // prevent default zoom-in on dblclick\\n\\n  svg.on(\\'click.focus\\', function(e){\\n    set_focus_via_click(null);\\n  });\\n\\n  g = svg.append(\"g\")\\n\\n  link = g.selectAll(\".link\")\\n  node = g.selectAll(\".node\")\\n  text = g.selectAll(\".text\")\\n\\n  simulation = d3.forceSimulation()\\n    .force(\\'charge\\', d3.forceManyBody().strength(-1200))\\n    .force(\\'center\\', d3.forceCenter(width / 2, height / 2))\\n    .force(\\'link\\', d3.forceLink().distance(5))\\n    .force(\\'x\\', d3.forceX()) // not sure what this does...\\n    .force(\\'y\\', d3.forceY())\\n    .on(\\'tick\\', ticked)\\n\\n  drag = d3.drag()\\n    .on(\"start\", function(e, d){\\n      svg.style(\\'cursor\\',\\'grabbing\\');\\n      if (!e.active) {\\n        simulation.alphaTarget(0.3).restart()\\n      }\\n      d.fx = d.x\\n      d.fy = d.y\\n      dragging = true;\\n    })\\n    .on(\\'drag\\', function(e, d){\\n      d.fx = e.x\\n      d.fy = e.y\\n    })\\n    .on(\\'end\\', function(e, d){\\n      if (!e.active) {\\n        simulation.alphaTarget(0)\\n      }\\n      dragging = false;\\n    });\\n\\n  resize();\\n  d3.select(window).on(\"resize\", resize);\\n\\n  d3.select(window).on(\"mouseup.focus\", function(e){\\n    if (focus_node == null) {\\n      set_cursor(\\'move\\');\\n    } else {\\n      set_cursor(\\'pointer\\');\\n    }\\n  });\\n}\\n\\nfunction set_histogram(selection, data){\\n  selection.selectAll(\\'.bin\\')\\n    .data(data)\\n    .join(\\n      enter => enter.append(\\'div\\')\\n        .attr(\\'class\\', \\'bin\\')\\n        .call(enter => enter.append(\\'div\\')\\n          .text(d => d.perc + \\'%\\'))\\n      ,\\n      update => update\\n        .call(update => update.select(\\'div\\')\\n          .text(d => d.perc + \\'%\\'))\\n    )\\n    .style(\\'height\\', (d) => (d.height || 1) + \\'px\\')\\n    .style(\\'background\\', (d) => d.color);\\n}\\n\\n\\n\\nvar color_function_index = 0;\\nvar node_color_function_index = 0;\\n\\nfunction reset_color_functions(){\\n  color_function_index = 0;\\n  node_color_function_index = 0;\\n  update_color_functions()\\n}\\n\\nfunction update_color_functions(){\\n  // update_meta_content_histogram\\n  set_histogram(d3.select(\\'#meta_content .histogram\\'), summary_histogram[node_color_function_index][color_function_index])\\n\\n  // update node colors\\n  node.style(tocolor, function(d) {\\n    return color(d.color[node_color_function_index][color_function_index]);\\n  })\\n\\n  // update focus node display, if focus_node\\n  if (focus_node != null){\\n    set_focus_node_histogram(focus_node)\\n  }\\n}\\n\\nfunction update_meta_content_histogram(){\\n\\n}\\n\\nfunction draw_circle_size(d) {\\n  return (d3.symbol()\\n    .size(function(d) {\\n      if (!d.size_modifier) {\\n          d.size_modifier = 1;\\n      }\\n      return d.size * 50 * d.size_modifier;\\n    })\\n    .type(d3.symbolCircle))(d)\\n}\\n\\nfunction start() {\\n\\n  /*\\n  * Force-related things\\n  *\\n  */\\n  // shallow copy to enable restarting,\\n  // because otherwise, starting the force simulation mutates the links (replaces indeces with refs)\\n  nodes = graph.nodes.map(n => Object.assign({}, n));\\n  links = graph.links.map(l => Object.assign({}, l));\\n\\n  // draw links first so that they appear behind nodes\\n  link = link\\n    .data(links)\\n    .join(\"line\")\\n      .attr(\"class\", \"link\")\\n      .style(\"stroke-width\", function(d) { return d.w * nominal_stroke; })\\n      .style(\"stroke-width\", function(d) { return d.w * nominal_stroke; });\\n\\n  node = node\\n    .data(nodes, d => d.name)\\n    .join(enter => enter.append(\"g\")\\n      .attr(\"class\", \"node\")\\n      .attr(\"id\", function(d){ return \"node-\" + d.name })\\n      // append circles...\\n      .append(\"path\")\\n        .attr(\"d\", draw_circle_size )\\n        .attr(\"class\", \"circle\")\\n        .on(\"mouseover.focus\", node_mouseover)\\n        .on(\"mouseout.focus\", node_mouseout)\\n        .on(\\'mousedown.focus\\', node_mousedown)\\n        .on(\"dblclick.freeze\", (e, d) => unfreeze_node(d) )\\n        .on(\\'click.zoom\\', node_click)\\n        .on(\\'center_viewport\\', center_on_node)\\n        .call(drag));\\n\\n  simulation.nodes(nodes);\\n  simulation.force(\\'link\\').links(links);\\n  simulation.alpha(1).restart()\\n\\n  reset_color_functions()\\n}\\n\\ninit();\\nstart();\\n\\nfunction restart() {\\n  // nodes = []\\n  // links = []\\n  // node.remove()\\n  // link.remove()\\n  focus_via_click = false;\\n  start()\\n}\\n\\nfunction zoomed({transform}){\\n  g.attr(\\'transform\\', transform)\\n}\\n\\nfunction ticked() {\\n  node.attr(\"transform\", function(d) { return \"translate(\" + d.x + \",\" + d.y + \")\"; })\\n      .attr(\"cx\", function(d) { return d.x; })\\n      .attr(\"cy\", function(d) { return d.y; })\\n\\n  link.attr(\"x1\", function(d) { return d.source.x; })\\n      .attr(\"y1\", function(d) { return d.source.y; })\\n      .attr(\"x2\", function(d) { return d.target.x; })\\n      .attr(\"y2\", function(d) { return d.target.y; });\\n}\\n\\n/*\\n* Resizing window and redraws\\n*/\\nfunction resize() {\\n  var width = document.getElementById(\"canvas\").offsetWidth;\\n  var height = document.getElementById(\"canvas\").offsetHeight;\\n\\n  svg.attr(\"width\", width)\\n     .attr(\"height\", height);\\n\\n  simulation.force(\\'center\\', d3.forceCenter(width / 2, height / 2));\\n  simulation.alpha(.3).restart();\\n\\n  w = width;\\n  h = height;\\n}\\n\\nfunction set_focus_via_click(d) {\\n  focus_via_click = (d != null ? true : false);\\n  set_focus_node(d);\\n}\\n\\nfunction do_above_below_stats(wrapper, data) {\\n  let column_order = [\\'feature\\', \\'mean\\', \\'std\\'];\\n  wrapper.select(\\'tbody\\')\\n    .selectAll(\\'tr\\')\\n    .data(data, d => d)\\n    .join(enter => {\\n        let tr = enter.append(\\'tr\\')\\n        tr.append(\\'td\\')\\n        tr.append(\\'td\\').style(\\'font-size\\', \\'smaller\\')\\n        tr.append(\\'td\\').style(\\'font-size\\', \\'smaller\\').attr(\\'class\\', \\'std\\')\\n        return tr\\n        })\\n    .selectAll(\\'td\\')\\n    .text( (d, i) => d[column_order[i]] )\\n  if (data.length > 0) {\\n    wrapper.style(\\'display\\', \\'block\\')\\n  } else {\\n    wrapper.style(\\'display\\', \\'none\\')\\n  }\\n}\\n\\nfunction do_projection_stats(wrapper, data) {\\n  let column_order = [\\'name\\', \\'mean\\', \\'min\\', \\'max\\'];\\n  wrapper.select(\\'tbody\\').selectAll(\\'tr\\')\\n    .data(data, d => d)\\n    .join(enter => {\\n      let tr = enter.append(\\'tr\\')\\n      tr.append(\\'td\\')\\n      tr.append(\\'td\\').style(\\'font-size\\', \\'smaller\\')\\n      tr.append(\\'td\\').style(\\'font-size\\', \\'smaller\\')\\n      tr.append(\\'td\\').style(\\'font-size\\', \\'smaller\\')\\n      return tr;\\n    })\\n    .selectAll(\\'td\\')\\n    .text( (d, i) => d[column_order[i]] );\\n  if (data.length > 0) {\\n    wrapper.style(\\'display\\', \\'block\\')\\n  } else {\\n    wrapper.style(\\'display\\', \\'none\\')\\n  }\\n}\\n\\nlet focus_node_tooltip_select = d3.select(\\'#tooltip_content_focus_node\\');\\nlet tooltip_content_no_focus_node = d3.select(\\'#tooltip_content_no_focus_node\\')\\nlet projection_stats_select = focus_node_tooltip_select.select(\\'.projection_stats\\');\\nlet cluster_stats_select = focus_node_tooltip_select.select(\\'.cluster_stats\\');\\nlet above_wrapper = cluster_stats_select.select(\\'.above-wrapper\\');\\nlet below_wrapper = cluster_stats_select.select(\\'.below-wrapper\\');\\nlet list_of_members = focus_node_tooltip_select.select(\\'.membership-information .list-of-members\\');\\n\\nfunction set_focus_node(d){\\n  if (d == null) {\\n    focus_node = null;\\n    set_cursor(\\'move\\');\\n    tooltip_content_no_focus_node.style(\\'display\\', \\'block\\');\\n    focus_node_tooltip_select.style(\\'display\\', \\'none\\')\\n    exit_highlight();\\n  } else if (focus_node == null || d.name != focus_node.name) {\\n    exit_highlight(focus_node);\\n    focus_node = d;\\n    set_highlight(focus_node);\\n    set_cursor(\\'pointer\\');\\n\\n    tooltip_content_no_focus_node.style(\\'display\\', \\'none\\');\\n\\n    focus_node_tooltip_select.select(\\'button.center-on-node\\').node().dataset.nodeId = d.tooltip.node_id;\\n    focus_node_tooltip_select.select(\\'.node_id\\').text(d.tooltip.node_id)\\n    focus_node_tooltip_select.select(\\'.distribution_label\\').text(d.tooltip.dist_label)\\n\\n    // histogram\\n    set_focus_node_histogram(d)\\n\\n    // projection statistics\\n    let projection_stats = d.tooltip.projection_stats;\\n    do_projection_stats(projection_stats_select, projection_stats)\\n\\n    // cluster statistics\\n    let cluster_stats = d.tooltip.cluster_stats;\\n    if (cluster_stats) {\\n\\n      do_above_below_stats(above_wrapper, cluster_stats.above);\\n\\n      do_above_below_stats(below_wrapper, cluster_stats.below);\\n\\n      cluster_stats_select.select(\\'.cluster-size\\').text(cluster_stats.size)\\n\\n      cluster_stats_select.style(\\'display\\', \\'block\\')\\n    } else {\\n      cluster_stats_select.style(\\'display\\', \\'none\\')\\n    }\\n\\n    // membership information\\n    list_of_members.selectAll(\\'span\\')\\n      .data(d.tooltip.custom_tooltips, d => d)\\n      .join(\\'span\\')\\n        .html(d => d)\\n        .style(\\'display\\', \\'inline-block\\')\\n        .style(\\'padding\\', \\'0 3px\\')\\n\\n    focus_node_tooltip_select.style(\\'display\\', \\'block\\');\\n\\n    set_focus_node_histogram(d)\\n  }\\n  // else, it\\'s already the focus node, so do nothing...\\n}\\n\\nd3.select(\\'#tooltip .center-on-node\\').on(\\'click\\', function(e){\\n  // d3.select(\\'#node-\\' + focus_node.name + \\' .circle\\').dispatch(\\'center_viewport\\')\\n  d3.select(\\'#node-\\' + e.target.dataset.nodeId + \\' .circle\\').dispatch(\\'center_viewport\\')\\n})\\n\\nfunction set_focus_node_histogram(d){\\n  set_histogram(d3.select(\\'#tooltip_content .histogram\\'), d.tooltip.histogram[color_function_index])\\n}\\n\\nfunction set_highlight(node) {\\n  let node_id = node.name;\\n  d3.select(\\'#node-\\' + node_id + \\' .circle\\').classed(\\'highlight\\', true);\\n  d3.select(\\'#node-\\' + node_id).classed(\\'highlight\\', true);\\n}\\n\\nfunction exit_highlight(node) {\\n  let node_id = false;\\n  if (node) {\\n    node_id = node.name\\n  }\\n  if (!node_id) {\\n     d3.selectAll(\\'.node .circle\\').classed(\\'highlight\\', false);\\n     d3.selectAll(\\'.node\\').classed(\\'highlight\\', false);\\n  } else {\\n     d3.select(\\'#node-\\' + node_id + \\' .circle\\').classed(\\'highlight\\', false);\\n     d3.select(\\'#node-\\' + node_id).classed(\\'highlight\\', false);\\n  }\\n\\n  do_projection_stats(projection_stats_select, [])\\n  do_above_below_stats(above_wrapper, [])\\n  do_above_below_stats(below_wrapper, [])\\n}\\n\\nfunction set_cursor(state) {\\n  if (!dragging) {\\n    svg.style(\\'cursor\\', state);\\n  }\\n}\\n\\nfunction node_is_fixed(d){\\n  return d.hasOwnProperty(\\'fx\\') || d.hasOwnProperty(\\'fy\\')\\n}\\n\\nfunction node_click(e, d) {\\n  e.stopPropagation()\\n  // to prevent the svg click.focus listener from unsetting the focus node...\\n}\\n\\nfunction center_on_node(e, d) {\\n  svg.transition().duration(250).call(zoom.translateTo, d.x, d.y);\\n}\\n\\nfunction node_mouseover(e, d) {\\n  d.was_fixed = d.hasOwnProperty(\\'fx\\') || d.hasOwnProperty(\\'fy\\')\\n  if (!d.was_fixed){\\n    d.fx = d.x;\\n    d.fy = d.y;\\n  }\\n\\n  if (e.buttons == 0){\\n    set_cursor(\\'pointer\\');\\n    if (!focus_via_click) {\\n      set_focus_node(d);\\n    }\\n  }\\n}\\n\\nfunction node_mouseout(e, d) {\\n  if (!d.was_fixed){\\n      delete d.fx\\n      delete d.fy\\n  }\\n  if (e.buttons == 0){\\n    set_cursor(\\'move\\');\\n    if (!focus_via_click) {\\n        set_focus_node(null);\\n    }\\n  }\\n}\\n\\nfunction node_mousedown(e, d) {\\n  e.stopPropagation();\\n  if (focus_node.name != d.name) {\\n      //switch click focus\\n      set_focus_via_click(d);\\n  } else if (!focus_via_click) {\\n      //d already selected but not via click; set click true\\n      focus_via_click = true;\\n  }\\n}\\n\\n\\n\\nfunction isNumber(n) {\\n  return !isNaN(parseFloat(n)) && isFinite(n);\\n}\\n\\nfunction unfreeze_node(d){\\n  delete d.fy\\n  delete d.fx\\n  return d\\n}\\n\\nfunction freeze_node(d){\\n  d.fx = d.x;\\n  d.fy = d.y;\\n  return d\\n}\\n\\n// search functionality\\nd3.select(\\'#searchbar\\')\\n  .on(\\'submit\\', function(event){\\n      /*\\n      * Searchbar functionality\\n      *\\n      * Permits AND, OR, and EXACT functionality\\n      *\\n      */\\n      event.preventDefault();\\n      // always running this will clear search results on a submit with an empty query\\n      node.datum(d => { d.size_modifier = 1; return d });\\n      node.style(\\'filter\\', null)\\n\\n      node.datum(d => {\\n        let to_lower = tooltip => String(tooltip).toLowerCase();\\n        d.tooltip.custom_tooltips_lowercase = d.tooltip.custom_tooltips.map(to_lower)\\n        return d\\n      });\\n\\n      let search_query = d3.select(this).select(\\'input\\').property(\\'value\\').toLowerCase();\\n      if (search_query) {\\n          let search_mode = d3.select(this).select(\\'input[name=\"search_mode\"]:checked\\').property(\\'value\\');\\n\\n          let node_ratio_fn = (d, i) => {\\n            matches = d.tooltip.custom_tooltips_lowercase.map(map_fn)\\n            let how_many = matches.filter(x=>x).length;\\n\\n            // Future optional feature -- size relative to ratio _within-node_\\n            let out_of = d.tooltip.cluster_stats.size;\\n            let ratio = how_many / out_of;\\n\\n            // Node sizes will be overall number of items in the node\\n            // number of matching\\n            d.size_modifier = how_many;\\n          }\\n\\n          let map_fn;\\n          let node_each_fn;\\n          switch (search_mode) {\\n            case \\'and\\':\\n              search_query = search_query.split(\\' \\');\\n              map_fn = tooltip => {\\n                return search_query.every(query_word => { return tooltip.includes( query_word ) })\\n              }\\n              node.each(node_ratio_fn)\\n              break;\\n            case \\'or\\':\\n              search_query = search_query.split(\\' \\');\\n              map_fn = tooltip => {\\n                return search_query.some(query_word => { return tooltip.includes( query_word ) })\\n              }\\n              node.each(node_ratio_fn)\\n              break;\\n            case \\'exact\\':\\n              node.filter((d,i) => {\\n                  matches = d.tooltip.custom_tooltips_lowercase.map(tooltip => tooltip == search_query)\\n                  return matches.some(e => e);\\n              })\\n              .style(\"filter\", \"url(#drop-shadow-glow)\");\\n              break;\\n            default:\\n              console.error(`search mode ${search_mode} unknown`);\\n              return;\\n          }\\n\\n      }\\n      node.attr(\"d\", draw_circle_size )\\n\\n  })\\n\\n// Key press events\\nlet searchbar = d3.select(\\'#searchbar input\\');\\n\\nd3.select(window).on(\"keydown\", function (event) {\\n  if (event.defaultPrevented) {\\n    return; // Do nothing if the event was already processed\\n  }\\n\\n  if (searchbar.size() && searchbar.node().matches(\\':focus\\')){\\n      return; // let them use the search bar.\\n  }\\n\\n  if (!event.ctrlKey && !event.altKey && !event.metaKey) {\\n    switch (event.key) {\\n      case \"f\": // freeze all\\n        node.datum(freeze_node);\\n        break;\\n      case \"x\": // unfreeze all\\n        node.datum(unfreeze_node);\\n        simulation.alphaTarget(.3).restart()\\n        break\\n      case \"s\":\\n        // Glow\\n        node.style(\"filter\", \"url(#drop-shadow-glow)\");\\n        break;\\n      case \"c\":\\n        // Remove glow\\n        node.style(\"filter\", null);\\n        break;\\n      case \"p\":\\n        // Turn to print mode, white backgrounds\\n        d3.select(\"body\").attr(\\'id\\', null).attr(\\'id\\', \"print\")\\n        break;\\n      case \"d\":\\n        // \"Display\" mode (dark background)\\n        d3.select(\"body\").attr(\\'id\\', null).attr(\\'id\\', \"display\")\\n        break;\\n      case \"z\":\\n        // turn off gravity (??)\\n        simulation\\n          .force(\\'charge\\', d3.forceManyBody().strength(0))\\n          .alphaTarget(.3)\\n          .restart()\\n        break\\n      case \"m\":\\n        // spacious layout\\n        simulation\\n          .force(\\'charge\\', d3.forceManyBody().strength(-1200))\\n          .alphaTarget(.3)\\n          .restart()\\n        break\\n      case \"e\":\\n        // tight layout\\n        simulation\\n          .force(\\'charge\\', d3.forceManyBody().strength(-60))\\n          .alphaTarget(.3)\\n          .restart()\\n        break\\n      default:\\n        return; // Quit when this doesn\\'t handle the key event.\\n    }\\n  event.preventDefault();\\n  }\\n  // Cancel the default action to avoid it being handled twice\\n}, true);\\n\\n\\n\\n/*\\n* Save and load config\\n*\\n*/\\n\\n// save config\\ndocument.getElementById(\\'download-config\\').addEventListener(\\'click\\', function(e){\\n  let config = {}\\n  node.data().forEach(node => {\\n      let config_node = {}\\n\\n      if ( node.hasOwnProperty(\\'fx\\') && node.hasOwnProperty(\\'fy\\') ) {\\n        config_node[\\'fx\\'] = config_node[\\'x\\'] = node[\\'fx\\']\\n        config_node[\\'fy\\'] = config_node[\\'y\\'] = node[\\'fy\\']\\n      } else {\\n        config_node[\\'x\\'] = node[\\'x\\']\\n        config_node[\\'y\\'] = node[\\'y\\']\\n      }\\n      config[node[\\'name\\']] = config_node\\n    })\\n\\n  //JSON.stringify(config,undefined,2)\\n\\n  // https://stackoverflow.com/a/45594892\\n  var fileName = \\'kmapper-config.json\\';\\n\\n  // Create a blob of the data. Blob is native JS api\\n  var fileToSave = new Blob([JSON.stringify(config)], {\\n      type: \\'application/json\\',\\n      name: fileName\\n  });\\n\\n  // function from FileSaver.js\\n  saveAs(fileToSave, fileName);\\n})\\n\\n// load config\\nvar config_file_loader = document.getElementById(\\'config-file-loader\\');\\n\\nconfig_file_loader.addEventListener(\\'change\\', function(){\\n  document.getElementById(\\'load-config\\').disabled = ( config_file_loader.files.length === 0 )\\n})\\n\\ndocument.getElementById(\\'load-config\\').addEventListener(\\'click\\', function(){\\n  const config_file = config_file_loader.files[0];\\n  const fr = new FileReader();\\n  fr.onload = function(e) {\\n    var config = JSON.parse(e.target.result);\\n    load_config(config);\\n  }\\n  fr.readAsText(config_file)\\n})\\nfunction load_config(config){\\n  node = node.datum(function(d, i){\\n    let load_node_config = config[d[\\'name\\']]\\n    d = Object.assign(d, load_node_config);\\n    if ( d.hasOwnProperty(\\'fx\\') && !load_node_config.hasOwnProperty(\\'fx\\') ) {\\n      delete d[\\'fx\\']\\n    }\\n    if ( d.hasOwnProperty(\\'fy\\') && !load_node_config.hasOwnProperty(\\'fy\\') ) {\\n      delete d[\\'fy\\']\\n    }\\n    return d;\\n  })\\n  simulation.restart()\\n}\\n</script>\\n</body>\\n\\n</html>'"
      ]
     },
     "execution_count": 44,
     "metadata": {},
     "output_type": "execute_result"
    }
   ],
   "source": [
    "mapper.visualize(G, \n",
    "                title='Performance Data based on Math Score and Mean of other two',\n",
    "                #custom_tooltips = performance_data['gender'].to_numpy(),\n",
    "                color_values = mean_outer_score,\n",
    "                color_function_name = 'Mean of Reading and Writing Score',\n",
    "                node_color_function=np.array(['average','std','sum','max','min']))\n"
   ]
  },
  {
   "cell_type": "markdown",
   "metadata": {},
   "source": [
    "# Base de Datos 2:\n",
    "\n",
    "Exploración Nivel 2:\n",
    "\n",
    "Descargar el SP500_tickernames (1).txt\n",
    "\n",
    "estudiaremos una base de datos de acciones bursátiles. Cabe mencionar que, la elección de los parámetros de Mapper depende del problema que estemos trabajando, y no hay un óptimo como tal, todo depende de lo que queramos estudiar. Con esta base de datos, queremos estudiar aquellas acciones que se parezcan entre ellas, es decir, que tengan un comportamiento similar en el mercado.\n",
    "\n",
    "El índice Standard & Poor's 500 (Standard & Poor's 500 Index), también conocido como S&P 500, es uno de los índices bursátiles más importantes de Estados Unidos. Al S&P 500 se lo considera el índice más representativo de la situación real del mercado. Se trabajará un archivo de ticketmaster.\n",
    "\n",
    "Antes de trabajar con el archivo se debe preparar:\n",
    "\n",
    "Leer el archivo\n",
    "\n",
    "* Definir el rango de fechas\n",
    "\n",
    "* Obtenga los datos históricos\n",
    "\n",
    "* Obtenga precios de cierre diarios y elimine las columnas que faltan\n",
    "\n",
    "* Para aplicar el algoritmo de Mapper de manera adecuada, convierta esta base de datos en una matriz de datos, donde cada fila corresponde a una acción y cada columna corresponde a un día. De igual manera estandarice los datos para que todos tengan la misma escala (esto con el objeto de que nuestros no estén tan dispersos).\n",
    "\n",
    "La razón de retorno de una inversión es la ganancia o pérdida que se obtiene en una inversión en relación con la cantidad invertida inicialmente. El porcentaje de retorno se calcula dividiendo la ganancia o pérdida neta por el costo original de la inversión. Esta tasa de rendimiento permite a los inversores comparar el éxito de una inversión con otras.\n",
    "Calcula el porcentaje de retorno (de la inversión) de cada ticket sobre el rango de fechas\n",
    "Proyectar utilizando funciones nuevas: \n",
    "\n",
    "Para este caso particular usaremos una proyección dada por el isomap, que es un algoritmo de reducción de dimensionalidad. Intuitivamente, el isomap encuentra una representación de los datos en un espacio de menor dimensión, donde la distancia entre dos puntos es la distancia geodésica (distancia que minimiza la energía) a lo largo de los puntos más cercanos en los datos originales.\n",
    "\n",
    "Notemos que a nuestra proyección le pedimos n_components=500, lo cual indica que la cubierta en la imágen tendrá 500 abiertas. Dependiente la cantidad de componentes que pidamos, nuestro gráfo cambia de complejidad (más componentes, más nodos y aristas, o menos, o inexistencia).\n",
    "\n",
    "El UMAP sirve para dar cierta categorización a los datos cuando no son claras las categorías, el UMAP es un algoritmo avanzado que necesita de muchos requerimientos y que no son parte del curso, pero que es importante mencionar para este ejemplo. No nos centraremos mucho en lo que hace UMAP, pero quedense con la idea de la categorización.\n",
    "\n",
    "Proyecta los datos a dos dimensiones usando dos transformaciones:\n",
    " * Coordenada 1 isomap https://en.wikipedia.org/wiki/Isomap Links to an external site. \n",
    " * Coordenada 2 UMAP https://arxiv.org/abs/1802.03426 Links to an external site. \n",
    "\n",
    "Una vez obtenida la proyección y el número de abiertos en la cubierta de la imágen. Procede a pedir a mapper que en nuestra proyección, nos haga un clustering de los datos y nos cree el gráfo. Para ello, usa la función mapper.map().\n",
    "\n",
    "En este caso usamos la proyección descrita anteriormente, y como clusterer usaremos DBSCAN con la métrica del coseno. La métrica del coseno nos indica que tan parecidos son dos vectores o dos pendientes. Como queremos conocer el comportamiento de las acciones (sus ascensos y descensos) esta métrica es ideal.\n",
    "\n",
    "Una vez que ya apliques el algoritmo a nuestros datos, vamos a visualizarlos. Para ello, usa la función mapper.visualize()\n",
    "\n",
    "En teoría, si todo salió bien, cada componente conexa del gráfo debería contener información de comportamiento similar en los elementos del nodo.\n",
    "\n"
   ]
  },
  {
   "cell_type": "markdown",
   "metadata": {},
   "source": []
  }
 ],
 "metadata": {
  "kernelspec": {
   "display_name": "Python 3",
   "language": "python",
   "name": "python3"
  },
  "language_info": {
   "codemirror_mode": {
    "name": "ipython",
    "version": 3
   },
   "file_extension": ".py",
   "mimetype": "text/x-python",
   "name": "python",
   "nbconvert_exporter": "python",
   "pygments_lexer": "ipython3",
   "version": "3.11.0"
  }
 },
 "nbformat": 4,
 "nbformat_minor": 2
}
