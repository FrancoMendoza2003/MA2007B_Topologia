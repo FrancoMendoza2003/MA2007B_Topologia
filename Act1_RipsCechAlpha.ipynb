{
 "cells": [
  {
   "cell_type": "code",
   "execution_count": null,
   "metadata": {},
   "outputs": [],
   "source": [
    "import numpy as np # Se necesitan arrays\n",
    "import pandas as pd # Para trabajar con bases de datos\n",
    "import matplotlib.pyplot as plt # Para graficar\n",
    "import matplotlib as cm #Para manejar colores\n",
    "from scipy.spatial.distance import squareform, pdist #Para calcular matrices de distancias e hacer inferencia de los parametros\n",
    "import matplotlib.patches as mpatches #Para hacer elipses\n",
    "from matplotlib.collections import PatchCollection #Para hacer elipses\n",
    "import gudhi #Para hacer la filtracion de complejos simpliciales de Rips y Alpha"
   ]
  },
  {
   "cell_type": "code",
   "execution_count": null,
   "metadata": {},
   "outputs": [],
   "source": [
    "data = pd.read_csv('data.csv') #Se lee la base de datos"
   ]
  }
 ],
 "metadata": {
  "language_info": {
   "name": "python"
  }
 },
 "nbformat": 4,
 "nbformat_minor": 2
}
